{
 "cells": [
  {
   "cell_type": "markdown",
   "metadata": {},
   "source": [
    "**Name:** Bryce Nicholas B. Co <br>\n",
    "**Course:** Discrete Structure III <br>"
   ]
  },
  {
   "cell_type": "markdown",
   "metadata": {},
   "source": [
    "1. Develop a python function from scratch that will find the determinants of any $n \\times n$ matrix."
   ]
  },
  {
   "cell_type": "code",
   "execution_count": 1,
   "metadata": {},
   "outputs": [
    {
     "name": "stdout",
     "output_type": "stream",
     "text": [
      "Example #1\n",
      "Determinant of the 3x3 matrix: -20 \n",
      "\n",
      "Example #2\n",
      "Determinant of the 3x3 matrix: 0\n",
      "If determinant is zero, then there is no solution \n",
      "\n"
     ]
    }
   ],
   "source": [
    "def calculate_determinant(matrix):\n",
    "    if len(matrix) != len(matrix[0]):\n",
    "        raise ValueError(\"Input matrix must be square\")\n",
    "\n",
    "    def determinant_recursive(sub_matrix):\n",
    "        if len(sub_matrix) == 1:\n",
    "            return sub_matrix[0][0]\n",
    "        elif len(sub_matrix) == 2:\n",
    "            return sub_matrix[0][0] * sub_matrix[1][1] - sub_matrix[0][1] * sub_matrix[1][0]\n",
    "        else:\n",
    "            det = 0\n",
    "            for col in range(len(sub_matrix)):\n",
    "                sub_matrix_minor = [\n",
    "                    [sub_matrix[i][j] for j in range(len(sub_matrix)) if j != col]\n",
    "                    for i in range(1, len(sub_matrix))\n",
    "                ]\n",
    "                det += ((-1) ** col) * sub_matrix[0][col] * determinant_recursive(sub_matrix_minor)\n",
    "            return det\n",
    "\n",
    "    return determinant_recursive(matrix)\n",
    "\n",
    "\n",
    "def print_determinant_example(matrix, example_num):\n",
    "    det = calculate_determinant(matrix)\n",
    "    print(f\"Example #{example_num}\")\n",
    "    if det != 0:\n",
    "        print(f\"Determinant of the {len(matrix)}x{len(matrix)} matrix: {det} \\n\")\n",
    "    else:\n",
    "        print(f\"Determinant of the {len(matrix)}x{len(matrix)} matrix: {det}\")\n",
    "        print(\"If determinant is zero, then there is no solution \\n\")\n",
    "\n",
    "matrix_3x3 = [\n",
    "    [1, 2, -3],\n",
    "    [2, -1, -1],\n",
    "    [4, -1, 1]\n",
    "]\n",
    "print_determinant_example(matrix_3x3, 1)\n",
    "\n",
    "matrix_3x3 = [\n",
    "    [1, 2, 0],\n",
    "    [2, 1, 1],\n",
    "    [-1, 1, -1]\n",
    "]\n",
    "print_determinant_example(matrix_3x3, 2)\n"
   ]
  },
  {
   "cell_type": "markdown",
   "metadata": {},
   "source": [
    "2. Develop a python function from scratch that will find both the eigenvectors and eigenvalues of any $n \\times n$ matrix."
   ]
  },
  {
   "cell_type": "code",
   "execution_count": 3,
   "metadata": {},
   "outputs": [
    {
     "name": "stdout",
     "output_type": "stream",
     "text": [
      "Covariance Matrix:\n",
      "[0.8, -0.25, 0.04, -0.14]\n",
      "[-0.25, 0.8, 0.51, 0.49]\n",
      "[0.04, 0.51, 0.8, 0.75]\n",
      "[-0.14, 0.49, 0.75, 0.8]\n",
      "\n",
      "Eigenvalue: 2.0126317832503116\n",
      "Eigenvector: [-0.16195930040208106, 0.5240485862931438, 0.5858965899398407, 0.5965462682091743]\n"
     ]
    }
   ],
   "source": [
    "def covariance_matrix(data_list):\n",
    "    num_rows = len(data_list)\n",
    "    num_columns = len(data_list[0])\n",
    "\n",
    "    cov_matrix = [[0] * num_columns for _ in range(num_columns)]\n",
    "\n",
    "    for x in range(num_columns):\n",
    "        for y in range(num_columns):\n",
    "            sum_value = sum(data_list[i][x] * data_list[i][y] for i in range(num_rows))\n",
    "            cov_matrix[x][y] = sum_value / num_rows\n",
    "\n",
    "    return cov_matrix\n",
    "\n",
    "def dot_product(vector1, vector2):\n",
    "    return sum(a * b for a, b in zip(vector1, vector2))\n",
    "\n",
    "def matrix_multiply(matrix, vector):\n",
    "    return [dot_product(row, vector) for row in matrix]\n",
    "\n",
    "def normalize(vector):\n",
    "    magnitude = (sum(x ** 2 for x in vector)) ** 0.5\n",
    "    return [x / magnitude for x in vector]\n",
    "\n",
    "def power_iteration(matrix, num_iterations=1000):\n",
    "    num_rows = len(matrix)\n",
    "    num_columns = len(matrix[0])\n",
    "    vector = [1.0] * num_columns\n",
    "\n",
    "    for _ in range(num_iterations):\n",
    "        vector = matrix_multiply(matrix, vector)\n",
    "        vector = normalize(vector)\n",
    "    eigenvalue = dot_product(matrix_multiply(matrix, vector), vector)\n",
    "\n",
    "    return eigenvalue, vector\n",
    "\n",
    "def main():\n",
    "    data_list = [\n",
    "        [-1, -0.63246, 0, 0.26062],\n",
    "        [0.33333, 1.26491, 1.73205, 1.56374],\n",
    "        [-1, 0.63246, -0.57735, -0.17375],\n",
    "        [0.33333, 0, -0.57735, -1.04249],\n",
    "        [1.33333, -1.26491, -0.57735, -0.60812],\n",
    "    ]\n",
    "    data_list2 = covariance_matrix(data_list)\n",
    "    print(\"Covariance Matrix:\")\n",
    "    for row in data_list2:\n",
    "        rounded_row = [round(val, 2) for val in row]\n",
    "        print(rounded_row)\n",
    "    eigenvalue, eigenvector = power_iteration(data_list2)\n",
    "    print(f\"\\nEigenvalue: {eigenvalue}\")\n",
    "    print(f\"Eigenvector: {eigenvector}\")\n",
    "\n",
    "\n",
    "if __name__ == \"__main__\":\n",
    "    main()\n"
   ]
  }
 ],
 "metadata": {
  "kernelspec": {
   "display_name": "Python 3",
   "language": "python",
   "name": "python3"
  },
  "language_info": {
   "codemirror_mode": {
    "name": "ipython",
    "version": 3
   },
   "file_extension": ".py",
   "mimetype": "text/x-python",
   "name": "python",
   "nbconvert_exporter": "python",
   "pygments_lexer": "ipython3",
   "version": "3.11.5"
  }
 },
 "nbformat": 4,
 "nbformat_minor": 2
}
