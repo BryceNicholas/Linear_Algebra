{
 "cells": [
  {
   "cell_type": "markdown",
   "metadata": {},
   "source": [
    "$$\n",
    "\\begin{align}\n",
    "1. \\quad \\text{Let u = (1,-2,4) and v = (3,5,1) w = (2,1,-3) find:}\\\\\n",
    "\\end{align}\n",
    "$$"
   ]
  },
  {
   "cell_type": "markdown",
   "metadata": {},
   "source": [
    "$$\n",
    "\\begin{align}\n",
    "\n",
    "a. \\quad & 3u - 2v \\\\\n",
    "\\quad & 3(1,-2,4) - 2(3,5,1)\\\\\n",
    "\\quad & (3,-6,12) - (6,10,2)\\\\\n",
    "\\quad & Answer: \\textbf{(-3,-16,10)}\n",
    "\n",
    "\\end{align}"
   ]
  },
  {
   "cell_type": "code",
   "execution_count": 1,
   "metadata": {},
   "outputs": [
    {
     "name": "stdout",
     "output_type": "stream",
     "text": [
      "a. 3u - 2v =  [ -3 -16  10]\n"
     ]
    }
   ],
   "source": [
    "import numpy as np\n",
    "\n",
    "u = np.array([1, -2, 4])\n",
    "v = np.array([3, 5, 1])\n",
    "w = np.array([2, 1, -3])\n",
    "result = 3 * u - 2 * v\n",
    "print(\"a. 3u - 2v = \", result)"
   ]
  },
  {
   "cell_type": "markdown",
   "metadata": {},
   "source": [
    "$$\n",
    "\\begin{align}\n",
    "b. \\quad & 5u + 3v - 4w \\\\\n",
    "\\quad & 5(1,-2,4) + 3(3,5,1) - 4(2,1,-3)\\\\\n",
    "\\quad & (5,-10,20) + (9,15,3) - (8,4,-12)\\\\\n",
    "\\quad & (14,5,23) - (8,4,-12)\\\\\n",
    "\\quad & Answer: \\textbf{(6,1,35)}\\\\\n",
    "\\end{align}\n",
    "$$"
   ]
  },
  {
   "cell_type": "code",
   "execution_count": 2,
   "metadata": {},
   "outputs": [
    {
     "name": "stdout",
     "output_type": "stream",
     "text": [
      "b. 5u + 3v - 4w = [ 6  1 35]\n"
     ]
    }
   ],
   "source": [
    "import numpy as np\n",
    "\n",
    "u = np.array([1, -2, 4])\n",
    "v = np.array([3, 5, 1])\n",
    "w = np.array([2, 1, -3])\n",
    "result = 5 * u + 3 * v - 4 * w\n",
    "print(\"b. 5u + 3v - 4w =\", result)"
   ]
  },
  {
   "cell_type": "markdown",
   "metadata": {},
   "source": [
    "$$\n",
    "\\begin{align}\n",
    "c. \\quad & u \\cdot v, \\quad v \\cdot w, \\quad u \\cdot w \\\\\n",
    "\\quad & (1,-2,4) \\cdot (3,5,1), (3,5,1) \\cdot (2,1,-3), (1,-2,4) \\cdot (2,1,-3)\\\\\n",
    "\\quad & Answer: \\textbf{-3, 8, -12}\\\\\n",
    "\\end{align}\n",
    "$$"
   ]
  },
  {
   "cell_type": "code",
   "execution_count": 3,
   "metadata": {},
   "outputs": [
    {
     "name": "stdout",
     "output_type": "stream",
     "text": [
      "c. u · v = -3\n",
      "   v · w = 8\n",
      "   u · w = -12\n"
     ]
    }
   ],
   "source": [
    "import numpy as np\n",
    "\n",
    "u = np.array([1, -2, 4])\n",
    "v = np.array([3, 5, 1])\n",
    "w = np.array([2, 1, -3])\n",
    "result_uv = np.dot(u, v)\n",
    "result_vw = np.dot(v, w)\n",
    "result_uw = np.dot(u, w)\n",
    "print(\"c. u · v =\", result_uv)\n",
    "print(\"   v · w =\", result_vw)\n",
    "print(\"   u · w =\", result_uw)"
   ]
  },
  {
   "cell_type": "markdown",
   "metadata": {},
   "source": [
    "$$\n",
    "\\begin{align}\n",
    "d. \\quad & \\|u\\|, \\quad \\|\\textbf{v}\\|, \\quad \\|w\\| \\\\\n",
    "\\quad & \\|(1,-2,4)\\|, \\quad \\|(3,5,1)\\|, \\quad \\|(2,1,-3)\\| \\\\\n",
    "\\quad & \\sqrt{1^2 + -2^2 + 4^2}, \\quad \\sqrt{3^2 + 5^2 + 1^2}, \\quad \\sqrt{2^2 + 1^2 + -3^2} \\\\\n",
    "\\quad & Answer: {\\sqrt{21}, \\quad \\sqrt{35}, \\quad \\sqrt{14}} \\\\\n",
    "\\end{align}\n",
    "$$"
   ]
  },
  {
   "cell_type": "code",
   "execution_count": 4,
   "metadata": {},
   "outputs": [
    {
     "name": "stdout",
     "output_type": "stream",
     "text": [
      "d. ||u|| = 4.58257569495584\n",
      "   ||v|| = 5.916079783099616\n",
      "   ||w|| = 3.7416573867739413\n"
     ]
    }
   ],
   "source": [
    "import numpy as np\n",
    "\n",
    "u = np.array([1, -2, 4])\n",
    "v = np.array([3, 5, 1])\n",
    "w = np.array([2, 1, -3])\n",
    "norm_u = np.linalg.norm(u)\n",
    "norm_v = np.linalg.norm(v)\n",
    "norm_w = np.linalg.norm(w)\n",
    "print(\"d. ||u|| =\", norm_u)\n",
    "print(\"   ||v|| =\", norm_v)\n",
    "print(\"   ||w|| =\", norm_w)"
   ]
  },
  {
   "cell_type": "markdown",
   "metadata": {},
   "source": [
    "$$\n",
    "\\begin{align}\n",
    "e. \\quad & \\text{If } \\theta \\text{ is the angle between } u \\text{ and } v, {find } \\cos\\theta.\\\\\n",
    "\\quad & \\cos(\\theta) = \\frac{(1,-2,4)(3,5,1)}{\\|(1,-2,4)\\| \\|(3,5,1)\\|} \\\\\n",
    "\\quad & \\cos(\\theta) = \\frac{(1)(3)+(-2)(5)+(4)(1)}{\\sqrt{1^2+(-2)^2+4^2}\\sqrt{3^2+5^2+1^2}}\\\\\n",
    "\\quad & \\cos(\\theta) = \\frac{3-10+4}{\\sqrt{1+4+16}{9+25+1}}\\\\\n",
    "\\quad & {\\cos(\\theta) = -\\frac{3}{\\sqrt{21}\\sqrt{35}}}\\\\\\\\\n",
    "\\end{align}\n",
    "$$"
   ]
  },
  {
   "cell_type": "code",
   "execution_count": 1,
   "metadata": {},
   "outputs": [
    {
     "name": "stdout",
     "output_type": "stream",
     "text": [
      "cos(theta) = -0.11065666703449763\n"
     ]
    }
   ],
   "source": [
    "import numpy as np\n",
    "\n",
    "u = np.array([1, -2, 4])\n",
    "v = np.array([3, 5, 1])\n",
    "dot_product = np.dot(u, v)\n",
    "magnitude_u = np.linalg.norm(u)\n",
    "magnitude_v = np.linalg.norm(v)\n",
    "cos_theta = dot_product / (magnitude_u * magnitude_v)\n",
    "print(\"cos(theta) =\", cos_theta)"
   ]
  },
  {
   "cell_type": "markdown",
   "metadata": {},
   "source": [
    "$$\n",
    "\\begin{align}\n",
    "\n",
    "f. \\quad & \\text{If } \\alpha \\text{ is the angle between } v \\text{ and } w, {find } \\cos\\alpha.\\\\\n",
    "\\quad & \\cos(\\alpha) = \\frac{(3)(2)+(5)(1)+(1)(-3)}{\\sqrt{3^2+5^2+1^2}\\sqrt{2^2+1^2+(-3)^2}}\\\\\n",
    "\\quad & \\cos(\\alpha) = \\frac{6+5-3}{\\sqrt{9+25+1}\\sqrt{4+1+9}}\\\\\n",
    "\\quad & \\bm{\\cos(\\alpha) = \\frac{8}{\\sqrt{35}\\sqrt{14}}}\\\\\\\\\n",
    "\n",
    "\\end{align}\n",
    "$$"
   ]
  },
  {
   "cell_type": "code",
   "execution_count": 3,
   "metadata": {},
   "outputs": [
    {
     "name": "stdout",
     "output_type": "stream",
     "text": [
      "cos(alpha) = 0.36140316116210053\n"
     ]
    }
   ],
   "source": [
    "import numpy as np\n",
    "\n",
    "v = np.array([3, 5, 1])\n",
    "w = np.array([2, 1, -3])\n",
    "dot_product = np.dot(v, w)\n",
    "magnitude_v = np.linalg.norm(v)\n",
    "magnitude_w = np.linalg.norm(w)\n",
    "cos_alpha = dot_product / (magnitude_v * magnitude_w)\n",
    "print(\"cos(alpha) =\", cos_alpha)"
   ]
  },
  {
   "cell_type": "markdown",
   "metadata": {},
   "source": [
    "$$\n",
    "\\begin{align}\n",
    "\n",
    "g. \\quad & \\text{If } \\beta \\text{ is the angle between } u \\text{ and } w, {find } \\cos\\beta.\\\\\n",
    "\\quad & \\cos(\\beta) = \\frac{(1)(2)+(-2)(1)+(4)(-3)}{\\sqrt{1^2+(-2)^2+4^2}\\sqrt{2^2+1^2+(-3)^2}}\\\\\n",
    "\\quad & \\cos(\\beta) = \\frac{2-2-12}{\\sqrt{1+4+16}\\sqrt{4+1+9}}\\\\\n",
    "\\quad & \\bm{\\cos(\\beta) = -\\frac{12}{\\sqrt{21}\\sqrt{14}}}\\\\\\\\\n",
    "\n",
    "\\end{align}\n",
    "$$"
   ]
  },
  {
   "cell_type": "code",
   "execution_count": 4,
   "metadata": {},
   "outputs": [
    {
     "name": "stdout",
     "output_type": "stream",
     "text": [
      "cos(beta) = -0.6998542122237653\n"
     ]
    }
   ],
   "source": [
    "import numpy as np\n",
    "\n",
    "u = np.array([1, -2, 4])\n",
    "w = np.array([2, 1, -3])\n",
    "dot_product = np.dot(u, w)\n",
    "magnitude_u = np.linalg.norm(u)\n",
    "magnitude_w = np.linalg.norm(w)\n",
    "cos_beta = dot_product / (magnitude_u * magnitude_w)\n",
    "print(\"cos(beta) =\", cos_beta)"
   ]
  },
  {
   "cell_type": "markdown",
   "metadata": {},
   "source": [
    "$$\n",
    "\\begin{align}\n",
    "\n",
    "h. \\quad & \\text{Find d(\\textbf{u, v}). }\\\\\n",
    "\\quad & \\sqrt{(1-3)^2+(-2-5)^2+(4-1)^2}\\\\\n",
    "\\quad & \\sqrt{(-2)^2+(-7)^2+(3)^2}\\\\\n",
    "\\quad & \\sqrt{4+49+9}\\\\\n",
    "\\quad & \\text{Answer} = \\bm{\\sqrt{62}}\\\\\n",
    "\n",
    "\\end{align}\n",
    "$$"
   ]
  },
  {
   "cell_type": "code",
   "execution_count": 5,
   "metadata": {},
   "outputs": [
    {
     "name": "stdout",
     "output_type": "stream",
     "text": [
      "d(u, v) = 7.874007874011811\n"
     ]
    }
   ],
   "source": [
    "import numpy as np\n",
    "\n",
    "u = np.array([1, -2, 4])\n",
    "v = np.array([3, 5, 1])\n",
    "distance = np.linalg.norm(u - v)\n",
    "print(\"d(u, v) =\", distance)"
   ]
  },
  {
   "cell_type": "markdown",
   "metadata": {},
   "source": [
    "$$\n",
    "\\begin{align}\n",
    "i. \\quad & \\text{Find d(\\textbf{w, v}). }\\\\\n",
    "\\quad & \\sqrt{(2-3)^2+(1-5)^2+(-3-1)^2}\\\\\n",
    "\\quad & \\sqrt{(-1)^2+(-4)^2+(-4)^2}\\\\\n",
    "\\quad & \\sqrt{1+16+16}\\\\\n",
    "\\quad & \\text{Answer} = \\bm{\\sqrt{33}}\\\\\n",
    "\\end{align}\n",
    "$$"
   ]
  },
  {
   "cell_type": "code",
   "execution_count": 6,
   "metadata": {},
   "outputs": [
    {
     "name": "stdout",
     "output_type": "stream",
     "text": [
      "d(w, v) = 5.744562646538029\n"
     ]
    }
   ],
   "source": [
    "import numpy as np\n",
    "\n",
    "w = np.array([2, 1, -3])\n",
    "v = np.array([3, 5, 1])\n",
    "distance = np.linalg.norm(w - v)\n",
    "print(\"d(w, v) =\", distance)"
   ]
  },
  {
   "cell_type": "markdown",
   "metadata": {},
   "source": [
    "$$\n",
    "\\begin{align}\n",
    "j. \\quad & \\text{Find d(\\textbf{u, w}). }\\\\\n",
    "\\quad & \\sqrt{(1-2)^2+(-2-1)^2+(4-(-3))^2}\\\\\n",
    "\\quad & \\sqrt{(-1)^2+(-3)^2+(7)^2}\\\\\n",
    "\\quad & \\sqrt{1+9+49}\\\\\n",
    "\\quad & \\text{Answer} = \\bm{\\sqrt{59}}\\\\\n",
    "\\end{align}\n",
    "$$"
   ]
  },
  {
   "cell_type": "code",
   "execution_count": 7,
   "metadata": {},
   "outputs": [
    {
     "name": "stdout",
     "output_type": "stream",
     "text": [
      "d(u, w) = 7.681145747868608\n"
     ]
    }
   ],
   "source": [
    "import numpy as np\n",
    "\n",
    "u = np.array([1, -2, 4])\n",
    "w = np.array([2, 1, -3])\n",
    "distance = np.linalg.norm(u - w)\n",
    "print(\"d(u, w) =\", distance)"
   ]
  },
  {
   "cell_type": "markdown",
   "metadata": {},
   "source": [
    "$$\n",
    "\\begin{align}\n",
    "k. \\quad & \\text{Find \\textit{proj}(\\textbf{u, v}). }\\\\\n",
    "\\quad & \\frac{(1)(3)+(-2)(5)+(4)(1)}{\\sqrt{3^2+5^2+1^2}^2}(3,5,1)\\\\\n",
    "\\quad & \\frac{3-10+4}{\\sqrt{9+25+1}^2}(3,5,1)\\\\\n",
    "\\quad & \\frac{-3}{\\sqrt{35}^2}(3,5,1)\\\\\n",
    "\\quad & \\text{Answer} = \\bm{(-\\frac{9}{35},-\\frac{3}{7},-\\frac{3}{35})}\\\\\\\\\n",
    "\\end{align}\n",
    "$$"
   ]
  },
  {
   "cell_type": "code",
   "execution_count": 8,
   "metadata": {},
   "outputs": [
    {
     "name": "stdout",
     "output_type": "stream",
     "text": [
      "proj(u, v) = [-0.25714286 -0.42857143 -0.08571429]\n"
     ]
    }
   ],
   "source": [
    "import numpy as np\n",
    "\n",
    "u = np.array([1, -2, 4])\n",
    "v = np.array([3, 5, 1])\n",
    "dot_product = np.dot(u, v)\n",
    "magnitude_v_squared = np.linalg.norm(v) ** 2\n",
    "projection = (dot_product / magnitude_v_squared) * v\n",
    "print(\"proj(u, v) =\", projection)"
   ]
  },
  {
   "cell_type": "markdown",
   "metadata": {},
   "source": [
    "$$\n",
    "\\begin{align}\n",
    "l. \\quad & \\text{Find \\textit{proj}(\\textbf{w, v}). }\\\\\n",
    "\\quad & \\frac{(2)(3)+(1)(5)+(-3)(1)}{\\sqrt{3^2+5^2+1^2}^2}(3,5,1)\\\\\n",
    "\\quad & \\frac{6+5-3}{\\sqrt{9+25+1}^2}(3,5,1)\\\\\n",
    "\\quad & \\frac{8}{\\sqrt{35}^2}(3,5,1)\\\\\n",
    "\\quad & \\text{Answer} = \\bm{(\\frac{24}{35},\\frac{8}{7},\\frac{8}{35})}\\\\\\\\\n",
    "\\end{align}\n",
    "$$"
   ]
  },
  {
   "cell_type": "code",
   "execution_count": 9,
   "metadata": {},
   "outputs": [
    {
     "name": "stdout",
     "output_type": "stream",
     "text": [
      "proj(w, v) = [0.68571429 1.14285714 0.22857143]\n"
     ]
    }
   ],
   "source": [
    "import numpy as np\n",
    "\n",
    "w = np.array([2, 1, -3])\n",
    "v = np.array([3, 5, 1])\n",
    "dot_product = np.dot(w, v)\n",
    "magnitude_v_squared = np.linalg.norm(v) ** 2\n",
    "projection = (dot_product / magnitude_v_squared) * v\n",
    "print(\"proj(w, v) =\", projection)"
   ]
  },
  {
   "cell_type": "markdown",
   "metadata": {},
   "source": [
    "$$\n",
    "\\begin{align}\n",
    "m. \\quad & \\text{Find \\textit{proj}(\\textbf{u, w}). }\\\\\n",
    "\\quad & \\frac{(1)(2)+(-2)(1)+(4)(-3)}{\\sqrt{2^2+1^2+(-3)^2}^2}(2,1,-3)\\\\\n",
    "\\quad & \\frac{2-2-12}{\\sqrt{4+1+9}^2}(2,1,-3)\\\\\n",
    "\\quad & \\frac{-12}{\\sqrt{14}^2}(2,1,-3)\\\\\n",
    "\\quad & \\frac{-12}{14}(2,1,-3)\\\\\n",
    "\\quad & \\frac{-6}{7}(2,1,-3)\\\\\n",
    "\\quad & \\text{Answer} = \\bm{(-\\frac{12}{7},-\\frac{6}{7},\\frac{18}{7})}\\\\\\\\\n",
    "\\end{align}\n",
    "$$"
   ]
  },
  {
   "cell_type": "code",
   "execution_count": 10,
   "metadata": {},
   "outputs": [
    {
     "name": "stdout",
     "output_type": "stream",
     "text": [
      "proj(u, w) = [-1.71428571 -0.85714286  2.57142857]\n"
     ]
    }
   ],
   "source": [
    "import numpy as np\n",
    "\n",
    "u = np.array([1, -2, 4])\n",
    "w = np.array([2, 1, -3])\n",
    "dot_product = np.dot(u, w)\n",
    "magnitude_w_squared = np.linalg.norm(w) ** 2\n",
    "projection = (dot_product / magnitude_w_squared) * w\n",
    "print(\"proj(u, w) =\", projection)"
   ]
  },
  {
   "cell_type": "markdown",
   "metadata": {},
   "source": [
    "$$\n",
    "\\begin{align}\n",
    "\n",
    "2. \\quad \\text{Let u = $\\begin{bmatrix} 1 \\\\ 3 \\\\ -4 \\end{bmatrix}$, and v = $\\begin{bmatrix} 2 \\\\ 1 \\\\ 5 \\end{bmatrix}$ w = $\\begin{bmatrix} 3 \\\\ -2 \\\\ 6 \\end{bmatrix}$ find:}\\\\\\\\\n",
    "\n",
    "\\end{align}\n",
    "$$"
   ]
  },
  {
   "cell_type": "markdown",
   "metadata": {},
   "source": [
    "$$\n",
    "\\begin{align}\n",
    "\n",
    "\\text {a. 3u - 2v} \\\\\n",
    "\\text {3 $\\begin{bmatrix} 1 \\\\ 3 \\\\ -4 \\end{bmatrix}$ - 2 $\\begin{bmatrix} 2 \\\\ 1 \\\\ 5 \\end{bmatrix}$}\\\\\n",
    "\\text {$\\begin{bmatrix} 3 \\\\ 9 \\\\ -12 \\end{bmatrix}$ - $\\begin{bmatrix} 4 \\\\ 2 \\\\ 10 \\end{bmatrix}$}\\\\\n",
    "\\textbf {Answer = $\\begin{bmatrix} -1 \\\\ 7 \\\\ -22 \\end{bmatrix}$}\n",
    "\n",
    "\\end{align}\n",
    "$$"
   ]
  },
  {
   "cell_type": "code",
   "execution_count": 4,
   "metadata": {},
   "outputs": [
    {
     "name": "stdout",
     "output_type": "stream",
     "text": [
      "a. 3u - 2v = [ -1   7 -22]\n"
     ]
    }
   ],
   "source": [
    "import numpy as np\n",
    "\n",
    "u = np.array([1, 3, -4])\n",
    "v = np.array([2, 1, 5])\n",
    "result = 3 * u - 2 * v\n",
    "print(\"a. 3u - 2v =\",result)"
   ]
  },
  {
   "cell_type": "markdown",
   "metadata": {},
   "source": [
    "$$\n",
    "\\begin{align}\n",
    "\n",
    "\\text {b. 5u + 3v - 4w} \\\\\n",
    "\\text {5 $\\begin{bmatrix} 1 \\\\ 3 \\\\ -4 \\end{bmatrix}$ + 3 $\\begin{bmatrix} 2 \\\\ 1 \\\\ 5 \\end{bmatrix}$ - 4 $\\begin{bmatrix} 3 \\\\ -2 \\\\ 6 \\end{bmatrix}$}\\\\\n",
    "\\text {$\\begin{bmatrix} 5 \\\\ 15 \\\\ -20 \\end{bmatrix}$ + $\\begin{bmatrix} 6 \\\\ 3 \\\\ 15 \\end{bmatrix}$ - $\\begin{bmatrix} 12 \\\\ -8 \\\\ 24 \\end{bmatrix}$}\\\\\n",
    "\\textbf {Answer = $\\begin{bmatrix} -1 \\\\ 26 \\\\ -29 \\end{bmatrix}$}\n",
    "\n",
    "\\end{align}\n",
    "$$"
   ]
  },
  {
   "cell_type": "code",
   "execution_count": 5,
   "metadata": {},
   "outputs": [
    {
     "name": "stdout",
     "output_type": "stream",
     "text": [
      "Answer = [ -1  26 -29]\n"
     ]
    }
   ],
   "source": [
    "import numpy as np\n",
    "\n",
    "u = np.array([1, 3, -4])\n",
    "v = np.array([2, 1, 5])\n",
    "w = np.array([3, -2, 6])\n",
    "\n",
    "result = 5 * u + 3 * v - 4 * w\n",
    "print(\"Answer =\", result)"
   ]
  },
  {
   "cell_type": "markdown",
   "metadata": {},
   "source": [
    "$$\n",
    "\\begin{align}\n",
    "c. \\quad & u \\cdot v, \\quad v \\cdot w, \\quad u \\cdot w \\\\\n",
    "\\quad & (1,3,-4) \\cdot (2,1,5), (2,1,5) \\cdot (3,-2,6), (1,3,-4) \\cdot (3,-2,6)\\\\\n",
    "\\quad & Answer: \\textbf{-15, 34, -27}\\\\\n",
    "\\end{align}\n",
    "$$"
   ]
  },
  {
   "cell_type": "code",
   "execution_count": 6,
   "metadata": {},
   "outputs": [
    {
     "name": "stdout",
     "output_type": "stream",
     "text": [
      "c. u · v = -15\n",
      "   v · w = 34\n",
      "   u · w = -27\n"
     ]
    }
   ],
   "source": [
    "import numpy as np\n",
    "\n",
    "u = np.array([1, 3, -4])\n",
    "v = np.array([2, 1, 5])\n",
    "w = np.array([3, -2, 6])\n",
    "result_uv = np.dot(u, v)\n",
    "result_vw = np.dot(v, w)\n",
    "result_uw = np.dot(u, w)\n",
    "print(\"c. u · v =\", result_uv)\n",
    "print(\"   v · w =\", result_vw)\n",
    "print(\"   u · w =\", result_uw)"
   ]
  },
  {
   "cell_type": "markdown",
   "metadata": {},
   "source": [
    "$$\n",
    "\\begin{align}\n",
    "d. \\quad & \\|u\\|, \\quad \\|\\textbf{v}\\|, \\quad \\|w\\| \\\\\n",
    "\\quad & \\|(1,3,-4)\\|, \\quad \\|(2,1,5)\\|, \\quad \\|(3,-2,6)\\| \\\\\n",
    "\\quad & \\sqrt{1^2 + 3^2 + (-4)^2}, \\quad \\sqrt{2^2 + 1^2 + 5^2}, \\quad \\sqrt{3^2 + (-2)^2 + 6^2} \\\\\n",
    "\\quad & Answer: {\\sqrt{26}, \\quad \\sqrt{30}, \\quad 7} \\\\\n",
    "\\end{align}\n",
    "$$"
   ]
  },
  {
   "cell_type": "code",
   "execution_count": 8,
   "metadata": {},
   "outputs": [
    {
     "name": "stdout",
     "output_type": "stream",
     "text": [
      "||u||: 5.0990195135927845\n",
      "||v||: 5.477225575051661\n",
      "||w||: 7.0\n"
     ]
    }
   ],
   "source": [
    "import numpy as np\n",
    "\n",
    "u = np.array([1, 3, -4])\n",
    "v = np.array([2, 1, 5])\n",
    "w = np.array([3, -2, 6])\n",
    "\n",
    "norm_u = np.linalg.norm(u)\n",
    "norm_v = np.linalg.norm(v)\n",
    "norm_w = np.linalg.norm(w)\n",
    "\n",
    "print(\"||u||:\", norm_u)\n",
    "print(\"||v||:\", norm_v)\n",
    "print(\"||w||:\", norm_w)\n"
   ]
  },
  {
   "cell_type": "markdown",
   "metadata": {},
   "source": [
    "$$\n",
    "\\begin{align}\n",
    "\n",
    "e. \\quad & \\text{If } \\theta \\text{ is the angle between } u \\text{ and } v, {find } \\cos\\theta.\\\\\n",
    "\\quad & \\cos(\\theta) = \\frac{(1,3,-4)(2,1,5)}{\\|(1,3,-4)\\| \\|(2,1,5)\\|} \\\\\n",
    "\\quad & \\cos(\\theta) = \\frac{(1)(2)+(3)(1)+(-4)(5)}{\\sqrt{1^2+3^2+(-4)^2}\\sqrt{2^2+1^2+5^2}}\\\\\n",
    "\\quad & \\cos(\\theta) = \\frac{2+3-20}{\\sqrt{1+9+16}{4+1+25}}\\\\\n",
    "\\quad & \\bm{\\cos(\\theta) = -\\frac{15}{\\sqrt{26}\\sqrt{30}}}\\\\\\\\\n",
    "\n",
    "\\end{align}\n",
    "$$"
   ]
  },
  {
   "cell_type": "code",
   "execution_count": 9,
   "metadata": {},
   "outputs": [
    {
     "name": "stdout",
     "output_type": "stream",
     "text": [
      "cos(theta) = -0.5370861555295747\n"
     ]
    }
   ],
   "source": [
    "import numpy as np\n",
    "\n",
    "u = np.array([1, 3, -4])\n",
    "v = np.array([2, 1, 5])\n",
    "dot_product = np.dot(u, v)\n",
    "magnitude_u = np.linalg.norm(u)\n",
    "magnitude_v = np.linalg.norm(v)\n",
    "cos_theta = dot_product / (magnitude_u * magnitude_v)\n",
    "print(\"cos(theta) =\", cos_theta)"
   ]
  },
  {
   "cell_type": "markdown",
   "metadata": {},
   "source": [
    "$$\n",
    "\\begin{align}\n",
    "\n",
    "f. \\quad & \\text{If } \\alpha \\text{ is the angle between } v \\text{ and } w, {find } \\cos\\alpha.\\\\\n",
    "\\quad & \\cos(\\alpha) = \\frac{(2)(3)+(1)(-2)+(5)(6)}{\\sqrt{2^2+1^2+5^2}\\sqrt{3^2+(-2)^2+6^2}}\\\\\n",
    "\\quad & \\cos(\\alpha) = \\frac{6-2+30}{\\sqrt{4+1+25}\\sqrt{9+4+36}}\\\\\n",
    "\\quad & \\bm{\\cos(\\alpha) = \\frac{34}{7\\sqrt{30}}}\\\\\\\\\n",
    "\n",
    "\\end{align}\n",
    "$$"
   ]
  },
  {
   "cell_type": "code",
   "execution_count": 10,
   "metadata": {},
   "outputs": [
    {
     "name": "stdout",
     "output_type": "stream",
     "text": [
      "cos(alpha) = 0.8867889026274118\n"
     ]
    }
   ],
   "source": [
    "import numpy as np\n",
    "\n",
    "v = np.array([2, 1, 5])\n",
    "w = np.array([3, -2, 6])\n",
    "dot_product = np.dot(v, w)\n",
    "magnitude_v = np.linalg.norm(v)\n",
    "magnitude_w = np.linalg.norm(w)\n",
    "cos_alpha = dot_product / (magnitude_v * magnitude_w)\n",
    "print(\"cos(alpha) =\", cos_alpha)"
   ]
  },
  {
   "cell_type": "markdown",
   "metadata": {},
   "source": [
    "$$\n",
    "\\begin{align}\n",
    "\n",
    "g. \\quad & \\text{If } \\beta \\text{ is the angle between } u \\text{ and } w, {find } \\cos\\beta.\\\\\n",
    "\\quad & \\cos(\\beta) = \\frac{(1)(3)+(3)(-2)+(-4)(6)}{\\sqrt{1^2+3^2+(-4)^2}\\sqrt{3^2+(-2)^2+6^2}}\\\\\n",
    "\\quad & \\cos(\\beta) = \\frac{3-6-24}{\\sqrt{1+9+16}\\sqrt{9+4+36}}\\\\\n",
    "\\quad & \\bm{\\cos(\\beta) = -\\frac{27}{7\\sqrt{26}}}\\\\\\\\\n",
    "\n",
    "\\end{align}\n",
    "$$"
   ]
  },
  {
   "cell_type": "code",
   "execution_count": 12,
   "metadata": {},
   "outputs": [
    {
     "name": "stdout",
     "output_type": "stream",
     "text": [
      "cos(beta) = -0.7564479498187099\n"
     ]
    }
   ],
   "source": [
    "import numpy as np\n",
    "\n",
    "u = np.array([1, 3, -4])\n",
    "w = np.array([3, -2, 6])\n",
    "dot_product = np.dot(u, w)\n",
    "magnitude_u = np.linalg.norm(u)\n",
    "magnitude_w = np.linalg.norm(w)\n",
    "cos_beta = dot_product / (magnitude_u * magnitude_w)\n",
    "print(\"cos(beta) =\", cos_beta)"
   ]
  },
  {
   "cell_type": "markdown",
   "metadata": {},
   "source": [
    "$$\n",
    "\\begin{align}\n",
    "\n",
    "h. \\quad & \\text{Find d(\\textbf{u, v}). }\\\\\n",
    "\\quad & \\sqrt{(1-2)^2+(3-1)^2+(-4-5)^2}\\\\\n",
    "\\quad & \\sqrt{(-1)^2+2^2+(-9)^2}\\\\\n",
    "\\quad & \\sqrt{1+4+81}\\\\\n",
    "\\quad & \\text{Answer} = \\bm{\\sqrt{86}}\\\\\n",
    "\n",
    "\\end{align}\n",
    "$$"
   ]
  },
  {
   "cell_type": "code",
   "execution_count": 13,
   "metadata": {},
   "outputs": [
    {
     "name": "stdout",
     "output_type": "stream",
     "text": [
      "d(u, v) = 9.273618495495704\n"
     ]
    }
   ],
   "source": [
    "import numpy as np\n",
    "\n",
    "u = np.array([1, 3, -4])\n",
    "v = np.array([2, 1, 5])\n",
    "distance = np.linalg.norm(u - v)\n",
    "print(\"d(u, v) =\", distance)"
   ]
  },
  {
   "cell_type": "markdown",
   "metadata": {},
   "source": [
    "$$\n",
    "\\begin{align}\n",
    "\n",
    "i. \\quad & \\text{Find d(\\textbf{w, v}). }\\\\\n",
    "\\quad & \\sqrt{(3-2)^2+(-2-1)^2+(6-5)^2}\\\\\n",
    "\\quad & \\sqrt{1^2+(-3)^2+1^2}\\\\\n",
    "\\quad & \\sqrt{1+9+1}\\\\\n",
    "\\quad & \\text{Answer} = \\bm{\\sqrt{11}}\\\\\n",
    "\n",
    "\\end{align}\n",
    "$$"
   ]
  },
  {
   "cell_type": "code",
   "execution_count": 14,
   "metadata": {},
   "outputs": [
    {
     "name": "stdout",
     "output_type": "stream",
     "text": [
      "d(w, v) = 3.3166247903554\n"
     ]
    }
   ],
   "source": [
    "import numpy as np\n",
    "\n",
    "w = np.array([3, -2, 6])\n",
    "v = np.array([2, 1, 5])\n",
    "distance = np.linalg.norm(w - v)\n",
    "print(\"d(w, v) =\", distance)"
   ]
  },
  {
   "cell_type": "markdown",
   "metadata": {},
   "source": [
    "$$\n",
    "\\begin{align}\n",
    "\n",
    "j. \\quad & \\text{Find d(\\textbf{u, w}). }\\\\\n",
    "\\quad & \\sqrt{(1-3)^2+(3-(-2))^2+(-4-6)^2}\\\\\n",
    "\\quad & \\sqrt{(-2)^2+5^2+(-10)^2}\\\\\n",
    "\\quad & \\sqrt{4+25+100}\\\\\n",
    "\\quad & \\text{Answer} = \\bm{\\sqrt{129}}\\\\\n",
    "\n",
    "\\end{align}\n",
    "$$"
   ]
  },
  {
   "cell_type": "code",
   "execution_count": 15,
   "metadata": {},
   "outputs": [
    {
     "name": "stdout",
     "output_type": "stream",
     "text": [
      "d(u, w) = 11.357816691600547\n"
     ]
    }
   ],
   "source": [
    "import numpy as np\n",
    "\n",
    "u = np.array([1, 3, -4])\n",
    "w = np.array([3, -2, 6])\n",
    "distance = np.linalg.norm(u - w)\n",
    "print(\"d(u, w) =\", distance)"
   ]
  },
  {
   "cell_type": "markdown",
   "metadata": {},
   "source": [
    "$$\n",
    "\\begin{align}\n",
    "\n",
    "k. \\quad & \\text{Find \\textit{proj}(\\textbf{u, v}). }\\\\\n",
    "\\quad & \\frac{(1)(2)+(3)(1)+(-4)(5)}{\\sqrt{2^2+1^2+5^2}^2} \\begin{bmatrix} 2 \\\\ 1 \\\\ 5 \\end{bmatrix}\\\\\n",
    "\\quad & \\frac{2+3-20}{\\sqrt{4+1+25}^2} \\begin{bmatrix} 2 \\\\ 1 \\\\ 5 \\end{bmatrix}\\\\\n",
    "\\quad & \\frac{-15}{\\sqrt{30}^2} \\begin{bmatrix} 2 \\\\ 1 \\\\ 5 \\end{bmatrix}\\\\\n",
    "\\quad & \\frac{-1}{2} \\begin{bmatrix} 2 \\\\ 1 \\\\ 5 \\end{bmatrix}\\\\\n",
    "\\quad & \\text{Answer} = \\bm{\\begin{bmatrix} -1 \\\\ -\\frac{1}{2} \\\\ -\\frac{5}{2} \\end{bmatrix}}\\\\\\\\\n",
    "\n",
    "\\end{align}\n",
    "$$"
   ]
  },
  {
   "cell_type": "code",
   "execution_count": 16,
   "metadata": {},
   "outputs": [
    {
     "name": "stdout",
     "output_type": "stream",
     "text": [
      "proj(u, v) = [-1.  -0.5 -2.5]\n"
     ]
    }
   ],
   "source": [
    "import numpy as np\n",
    "\n",
    "u = np.array([1, 3, -4])\n",
    "v = np.array([2, 1, 5])\n",
    "dot_product = np.dot(u, v)\n",
    "magnitude_v_squared = np.linalg.norm(v) ** 2\n",
    "projection = (dot_product / magnitude_v_squared) * v\n",
    "print(\"proj(u, v) =\", projection)"
   ]
  },
  {
   "cell_type": "markdown",
   "metadata": {},
   "source": [
    "$$\n",
    "\\begin{align}\n",
    "\n",
    "l. \\quad & \\text{Find \\textit{proj}(\\textbf{w, v}). }\\\\\n",
    "\\quad & \\frac{(3)(2)+(-2)(1)+(6)(5)}{\\sqrt{2^2+1^2+5^2}^2} \\begin{bmatrix} 2 \\\\ 1 \\\\ 5 \\end{bmatrix}\\\\\n",
    "\\quad & \\frac{6-2+30}{\\sqrt{4+1+25}^2} \\begin{bmatrix} 2 \\\\ 1 \\\\ 5 \\end{bmatrix}\\\\\n",
    "\\quad & \\frac{-15}{\\sqrt{34}^2} \\begin{bmatrix} 2 \\\\ 1 \\\\ 5 \\end{bmatrix}\\\\\n",
    "\\quad & \\frac{34}{30} \\begin{bmatrix} 2 \\\\ 1 \\\\ 5 \\end{bmatrix}\\\\\n",
    "\\quad & \\text{Answer} = \\bm{\\begin{bmatrix} \\frac{34}{15} \\\\ \\frac{17}{15} \\\\ \\frac{17}{3} \\end{bmatrix}}\\\\\\\\\n",
    "\n",
    "\\end{align}\n",
    "$$"
   ]
  },
  {
   "cell_type": "code",
   "execution_count": 20,
   "metadata": {},
   "outputs": [
    {
     "name": "stdout",
     "output_type": "stream",
     "text": [
      "proj(w, v) = [2.26666667 1.13333333 5.66666667]\n"
     ]
    }
   ],
   "source": [
    "import numpy as np\n",
    "\n",
    "w = np.array([3, -2, 6])\n",
    "v = np.array([2, 1, 5])\n",
    "dot_product = np.dot(w, v)\n",
    "magnitude_v_squared = np.linalg.norm(v) ** 2\n",
    "projection = (dot_product / magnitude_v_squared) * v\n",
    "print(\"proj(w, v) =\", projection)"
   ]
  },
  {
   "cell_type": "markdown",
   "metadata": {},
   "source": [
    "$$\n",
    "\\begin{align}\n",
    "\n",
    "m. \\quad & \\text{Find \\textit{proj}(\\textbf{u, w}). }\\\\\n",
    "\\quad & \\frac{(1)(3)+(3)(-2)+(-4)(6)}{\\sqrt{3^2+(-2)^2+6^2}^2} \\begin{bmatrix} 3 \\\\ -2 \\\\ 6 \\end{bmatrix}\\\\\n",
    "\\quad & \\frac{3-6-24}{\\sqrt{9+4+36}^2} \\begin{bmatrix} 3 \\\\ -2 \\\\ 6 \\end{bmatrix}\\\\\n",
    "\\quad & \\frac{-27}{\\sqrt{49}^2} \\begin{bmatrix} 3 \\\\ -2 \\\\ 6 \\end{bmatrix}\\\\\n",
    "\\quad & \\frac{-27}{49} \\begin{bmatrix} 3 \\\\ -2 \\\\ 6 \\end{bmatrix}\\\\\n",
    "\\quad & \\text{Answer} = \\bm{\\begin{bmatrix} -\\frac{81}{49} \\\\ \\frac{54}{49} \\\\ -\\frac{162}{49} \\end{bmatrix}}\\\\\\\\\n",
    "\n",
    "\\end{align}\n",
    "$$"
   ]
  },
  {
   "cell_type": "code",
   "execution_count": 19,
   "metadata": {},
   "outputs": [
    {
     "name": "stdout",
     "output_type": "stream",
     "text": [
      "proj(u, w) = [-1.65306122  1.10204082 -3.30612245]\n"
     ]
    }
   ],
   "source": [
    "import numpy as np\n",
    "\n",
    "w = np.array([3, -2, 6])\n",
    "u = np.array([1, 3, -4])\n",
    "dot_product = np.dot(u, w)\n",
    "magnitude_w_squared = np.linalg.norm(w) ** 2\n",
    "projection = (dot_product / magnitude_w_squared) * w\n",
    "print(\"proj(u, w) =\", projection)"
   ]
  },
  {
   "cell_type": "markdown",
   "metadata": {},
   "source": [
    "$$\n",
    "\\begin{align}\n",
    "3. \\quad \\text{Let u = (2,-5,6,-3) and v = (5,-2,1,-7,-4) w = (2,1,-3) find:}\\\\\n",
    "\\end{align}\n",
    "$$"
   ]
  },
  {
   "cell_type": "markdown",
   "metadata": {},
   "source": [
    "$$\n",
    "\\begin{align}\n",
    "\n",
    "a. \\quad & 4u - 3v \\\\\n",
    "\\quad & 4(2,-5,4,6,-3) - 3(5,-2,1,-7,-4)\\\\\n",
    "\\quad & (8,-20,16,24,-12) - (15,-6,3,-21,-12)\\\\\n",
    "\\quad & Answer: \\textbf{(-7,-14,13,45,0)}\n",
    "\n",
    "\\end{align}\n",
    "$$"
   ]
  },
  {
   "cell_type": "code",
   "execution_count": 1,
   "metadata": {},
   "outputs": [
    {
     "name": "stdout",
     "output_type": "stream",
     "text": [
      "Answer =  [ -7 -14  13  45   0]\n"
     ]
    }
   ],
   "source": [
    "import numpy as np\n",
    "\n",
    "u = np.array([2, -5, 4, 6, -3])\n",
    "v = np.array([5, -2, 1, -7, -4])\n",
    "answer = 4*u - 3*v\n",
    "\n",
    "print(\"Answer = \", answer)"
   ]
  },
  {
   "cell_type": "markdown",
   "metadata": {},
   "source": [
    "$$\n",
    "\\begin{align}\n",
    "\n",
    "b. \\quad & 5u + 2v - 2w \\\\\n",
    "\\quad & 5(2,-5,4,6,-3) + 2(5,-2,1,-7,-4) - 2(2,1,-3,0,0)\\\\\n",
    "\\quad & (10,-25,20,30,-15) + (10,-4,2,-14,-8) - (4,2,-6,0,0)\\\\\n",
    "\\quad & Answer: \\textbf{(16,-31,28,16,-23)}\n",
    "\n",
    "\\end{align}\n",
    "$$"
   ]
  },
  {
   "cell_type": "code",
   "execution_count": 2,
   "metadata": {},
   "outputs": [
    {
     "name": "stdout",
     "output_type": "stream",
     "text": [
      "Answer =  [ 16 -31  28  16 -23]\n"
     ]
    }
   ],
   "source": [
    "import numpy as np\n",
    "\n",
    "u = np.array([2, -5, 4, 6, -3])\n",
    "v = np.array([5, -2, 1, -7, -4])\n",
    "w = np.array([2, 1, -3])\n",
    "w = np.append(w, [0, 0])\n",
    "answer = 5*u + 2*v - 2*w\n",
    "\n",
    "print(\"Answer = \", answer)"
   ]
  },
  {
   "cell_type": "markdown",
   "metadata": {},
   "source": [
    "$$\n",
    "\\begin{align}\n",
    "\n",
    "c. \\quad & u \\cdot v, \\quad v \\cdot w, \\quad u \\cdot w \\\\\n",
    "\\quad & (2,-5,4,6,-3) \\cdot (5,-2,1,-7,-4), (5,-2,1,-7,-4) \\cdot (2,1,-3,0,0), (2,-5,4,6,-3) \\cdot (2,1,-3,0,0)\\\\\n",
    "\\quad & Answer: \\textbf{-6, 5, -13}\\\\\n",
    "\n",
    "\\end{align}\n",
    "$$"
   ]
  },
  {
   "cell_type": "code",
   "execution_count": 3,
   "metadata": {},
   "outputs": [
    {
     "name": "stdout",
     "output_type": "stream",
     "text": [
      "c. u · v = -6\n",
      "   v · w = 5\n",
      "   u · w = -13\n"
     ]
    }
   ],
   "source": [
    "import numpy as np\n",
    "\n",
    "u = np.array([2, -5, 4, 6, -3])\n",
    "v = np.array([5, -2, 1, -7, -4])\n",
    "w = np.array([2, 1, -3])\n",
    "w = np.append(w, [0, 0])\n",
    "result_uv = np.dot(u, v)\n",
    "result_vw = np.dot(v, w)\n",
    "result_uw = np.dot(u, w)\n",
    "print(\"c. u · v =\", result_uv)\n",
    "print(\"   v · w =\", result_vw)\n",
    "print(\"   u · w =\", result_uw)"
   ]
  },
  {
   "cell_type": "markdown",
   "metadata": {},
   "source": [
    "$$\n",
    "\\begin{align}\n",
    "\n",
    "d. \\quad & \\|u\\|, \\quad \\|\\textbf{v}\\|, \\quad \\|w\\| \\\\\n",
    "\\quad & \\|(2,-5,4,6,-3)\\|, \\quad \\|(5,-2,1,-7,-4)\\|, \\quad \\|(2,1,-3)\\| \\\\\n",
    "\\quad & \\sqrt{2^2 + (-5)^2 + 4^2 + 6^2 + (-3)^2}, \\quad \\sqrt{5^2 + (-2)^2 + 1^2 + (-7)^2 + (-4)^2}, \\quad \\sqrt{2^2 + 1^2 + (-3)^2} \\\\\n",
    "\\quad & Answer: {\\sqrt{90}, \\quad \\sqrt{95}, \\quad \\sqrt{14}} \\\\\n",
    "\n",
    "\\end{align}\n",
    "$$"
   ]
  },
  {
   "cell_type": "code",
   "execution_count": 4,
   "metadata": {},
   "outputs": [
    {
     "name": "stdout",
     "output_type": "stream",
     "text": [
      "d. ||u|| = 9.486832980505138\n",
      "   ||v|| = 9.746794344808963\n",
      "   ||w|| = 3.7416573867739413\n"
     ]
    }
   ],
   "source": [
    "import numpy as np\n",
    "\n",
    "u = np.array([2, -5, 4, 6, -3])\n",
    "v = np.array([5, -2, 1, -7, -4])\n",
    "w = np.array([2, 1, -3])\n",
    "norm_u = np.linalg.norm(u)\n",
    "norm_v = np.linalg.norm(v)\n",
    "norm_w = np.linalg.norm(w)\n",
    "print(\"d. ||u|| =\", norm_u)\n",
    "print(\"   ||v|| =\", norm_v)\n",
    "print(\"   ||w|| =\", norm_w)"
   ]
  },
  {
   "cell_type": "markdown",
   "metadata": {},
   "source": [
    "$$\n",
    "\\begin{align}\n",
    "\n",
    "e. \\quad & \\text{If } \\theta \\text{ is the angle between } u \\text{ and } v, {find } \\cos\\theta.\\\\\n",
    "\\quad & \\cos(\\theta) = \\frac{(2, -5, 4, 6, -3)(5, -2, 1, -7, -4)}{\\|(2, -5, 4, 6, -3)\\| \\|(5, -2, 1, -7, -4)\\|} \\\\\n",
    "\\quad & \\cos(\\theta) = \\frac{(2)(5)+(-5)(-2)+(4)(1)+(6)(-7)+(-3)(-4)}{\\sqrt{2^2+(-5)^2+4^2+6^2+(-3)^2}\\sqrt{5^2+(-2)^2+1^2+(-7)^2+(-4)^2}}\\\\\n",
    "\\quad & \\cos(\\theta) = \\frac{10+10+4-42+12}{\\sqrt{4+25+16+36+9}{25+4+1+49+16}}\\\\\n",
    "\\quad & {\\cos(\\theta) = -\\frac{6}{\\sqrt{90}\\sqrt{95}}}\\\\\\\\\n",
    "\n",
    "\\end{align}\n",
    "$$"
   ]
  },
  {
   "cell_type": "code",
   "execution_count": 5,
   "metadata": {},
   "outputs": [
    {
     "name": "stdout",
     "output_type": "stream",
     "text": [
      "cos(theta) = -0.06488856845230502\n"
     ]
    }
   ],
   "source": [
    "import numpy as np\n",
    "\n",
    "u = np.array([2, -5, 4, 6, -3])\n",
    "v = np.array([5, -2, 1, -7, -4])\n",
    "dot_product = np.dot(u, v)\n",
    "magnitude_u = np.linalg.norm(u)\n",
    "magnitude_v = np.linalg.norm(v)\n",
    "cos_theta = dot_product / (magnitude_u * magnitude_v)\n",
    "print(\"cos(theta) =\", cos_theta)"
   ]
  },
  {
   "cell_type": "markdown",
   "metadata": {},
   "source": [
    "$$\n",
    "\\begin{align}\n",
    "\n",
    "f. \\quad & \\text{If } \\alpha \\text{ is the angle between } v \\text{ and } w, {find } \\cos\\alpha.\\\\\n",
    "\\quad & \\cos(\\alpha) = \\frac{(5)(2)+(-2)(1)+(1)(-3)+(-7)(0)+(-4)(0)}{\\sqrt{5^2+(-2)^2+1^2+(-7)^2+(-4)^2}\\sqrt{2^2+1^2+(-3)^2+0^2+0^2}}\\\\\n",
    "\\quad & \\cos(\\alpha) = \\frac{10-2-3+0+0}{\\sqrt{25+4+1+49+16}\\sqrt{4+1+9+0+0}}\\\\\n",
    "\\quad & \\bm{\\cos(\\alpha) = \\frac{5}{\\sqrt{95}\\sqrt{14}}}\\\\\\\\\n",
    "\n",
    "\\end{align}\n",
    "$$"
   ]
  },
  {
   "cell_type": "code",
   "execution_count": 8,
   "metadata": {},
   "outputs": [
    {
     "name": "stdout",
     "output_type": "stream",
     "text": [
      "cos(alpha) = 0.13710212427677046\n"
     ]
    }
   ],
   "source": [
    "import numpy as np\n",
    "\n",
    "v = np.array([5, -2, 1, -7, -4])\n",
    "w = np.array([2, 1, -3])\n",
    "w = np.append(w, [0, 0])\n",
    "\n",
    "dot_product = np.dot(v, w)\n",
    "magnitude_w = np.linalg.norm(w)\n",
    "magnitude_v = np.linalg.norm(v)\n",
    "cos_alpha = dot_product / (magnitude_v* magnitude_w)\n",
    "print(\"cos(alpha) =\", cos_alpha)"
   ]
  },
  {
   "cell_type": "markdown",
   "metadata": {},
   "source": [
    "$$\n",
    "\\begin{align}\n",
    "\n",
    "g. \\quad & \\text{If } \\beta \\text{ is the angle between } u \\text{ and } w, {find } \\cos\\beta.\\\\\n",
    "\\quad & \\cos(\\beta) = \\frac{(2)(2)+(-5)(1)+(4)(-3)+(6)(0)+(-3)(0)}{\\sqrt{2^2+(-5)^2+4^2+6^2+(-3)^2}\\sqrt{2^2+1^2+(-3)^2+0^2+0^2}}\\\\\n",
    "\\quad & \\cos(\\beta) = \\frac{4-5-12+0+0}{\\sqrt{4+25+16+36+9}\\sqrt{4+1+9+0+0}}\\\\\n",
    "\\quad & \\bm{\\cos(\\beta) = -\\frac{13}{\\sqrt{90}\\sqrt{14}}}\\\\\\\\\n",
    "\n",
    "\\end{align}\n",
    "$$"
   ]
  },
  {
   "cell_type": "code",
   "execution_count": 11,
   "metadata": {},
   "outputs": [
    {
     "name": "stdout",
     "output_type": "stream",
     "text": [
      "cos(beta) = -0.3662335103823572\n"
     ]
    }
   ],
   "source": [
    "import numpy as np\n",
    "\n",
    "u = np.array([2, -5, 4, 6, -3])\n",
    "w = np.array([2, 1, -3])\n",
    "w = np.append(w, [0, 0])\n",
    "\n",
    "dot_product = np.dot(u, w)\n",
    "magnitude_u = np.linalg.norm(u)\n",
    "magnitude_w = np.linalg.norm(w)\n",
    "cos_beta = dot_product / (magnitude_u* magnitude_w)\n",
    "print(\"cos(beta) =\", cos_beta)"
   ]
  },
  {
   "cell_type": "markdown",
   "metadata": {},
   "source": [
    "$$\n",
    "\\begin{align}\n",
    "\n",
    "h. \\quad & \\text{Find d(\\textbf{u, v}). }\\\\\n",
    "\\quad & \\sqrt{(2-5)^2+(-5-(-2))^2+(4-1)^2+(6-(-7))^2+(-3-(-4))^2}\\\\\n",
    "\\quad & \\sqrt{(-3)^2+(-3)^2+3^2+13^2+1^2}\\\\\n",
    "\\quad & \\sqrt{9+9+9+169+1}\\\\\n",
    "\\quad & \\text{Answer} = \\bm{\\sqrt{197}}\\\\\n",
    "\n",
    "\\end{align}\n",
    "$$"
   ]
  },
  {
   "cell_type": "code",
   "execution_count": 12,
   "metadata": {},
   "outputs": [
    {
     "name": "stdout",
     "output_type": "stream",
     "text": [
      "d(u, v) = 14.035668847618199\n"
     ]
    }
   ],
   "source": [
    "import numpy as np\n",
    "\n",
    "u = np.array([2, -5, 4, 6, -3])\n",
    "v = np.array([5, -2, 1, -7, -4])\n",
    "distance = np.linalg.norm(u - v)\n",
    "print(\"d(u, v) =\", distance)"
   ]
  },
  {
   "cell_type": "markdown",
   "metadata": {},
   "source": [
    "$$\n",
    "\\begin{align}\n",
    "\n",
    "i. \\quad & \\text{Find d(\\textbf{w, v}). }\\\\\n",
    "\\quad & \\sqrt{(2-5)^2+(1-(-2))^2+(-3-1)^2+(0-(-7))^2+(0-(-4))^2}\\\\\n",
    "\\quad & \\sqrt{(-3)^2+3^2+(-4)^2+(-7)^2+4^2}\\\\\n",
    "\\quad & \\sqrt{9+9+16+49+16}\\\\\n",
    "\\quad & \\text{Answer} = \\bm{\\sqrt{99}}\\\\\n",
    "\n",
    "\\end{align}\n",
    "$$"
   ]
  },
  {
   "cell_type": "code",
   "execution_count": 13,
   "metadata": {},
   "outputs": [
    {
     "name": "stdout",
     "output_type": "stream",
     "text": [
      "d(u, v) = 9.9498743710662\n"
     ]
    }
   ],
   "source": [
    "import numpy as np\n",
    "\n",
    "v = np.array([5, -2, 1, -7, -4])\n",
    "w = np.array([2, 1, -3])\n",
    "w = np.append(w, [0, 0])\n",
    "\n",
    "distance = np.linalg.norm(w - v)\n",
    "print(\"d(u, v) =\", distance)"
   ]
  },
  {
   "cell_type": "markdown",
   "metadata": {},
   "source": [
    "$$\n",
    "\\begin{align}\n",
    "\n",
    "j. \\quad & \\text{Find d(\\textbf{u, w}). }\\\\\n",
    "\\quad & \\sqrt{(2-2)^2+(-5-1)^2+(4-(-3))^2+(6-0)^2+(-3-0)^2}\\\\\n",
    "\\quad & \\sqrt{0^2+(-6)^2+7^2+6^2+(-3)^2}\\\\\n",
    "\\quad & \\sqrt{0+36+49+36+9}\\\\\n",
    "\\quad & \\text{Answer} = \\bm{\\sqrt{130}}\\\\\n",
    "\n",
    "\\end{align}\n",
    "$$"
   ]
  },
  {
   "cell_type": "code",
   "execution_count": 14,
   "metadata": {},
   "outputs": [
    {
     "name": "stdout",
     "output_type": "stream",
     "text": [
      "d(u, w) = 11.40175425099138\n"
     ]
    }
   ],
   "source": [
    "import numpy as np\n",
    "\n",
    "u = np.array([2, -5, 4, 6, -3])\n",
    "w = np.array([2, 1, -3])\n",
    "w = np.append(w, [0, 0])\n",
    "\n",
    "distance = np.linalg.norm(u - w)\n",
    "print(\"d(u, w) =\", distance)"
   ]
  },
  {
   "cell_type": "markdown",
   "metadata": {},
   "source": [
    "$$\n",
    "\\begin{align}\n",
    "\n",
    "k. \\quad & \\text{Find \\textit{proj}(\\textbf{u, v}). }\\\\\n",
    "\\quad & \\frac{(2)(5)+(-5)(-2)+(4)(1)+(6)(-7)+(-3)(-4)}{\\sqrt{5^2+(-2)^2+1^2+(-7)^2+(-4)^2}^2}(5,-2,1,-7,-4)\\\\\n",
    "\\quad & \\frac{10+10+4-42+12}{\\sqrt{25+4+1+49+16}^2}(5,-2,1,-7,-4)\\\\\n",
    "\\quad & \\frac{-6}{\\sqrt{95}^2}(5,-2,1,-7,-4)\\\\\n",
    "\\quad & \\text{Answer} = \\bm{(-\\frac{6}{19},\\frac{12}{95},-\\frac{6}{95},\\frac{42}{95},\\frac{24}{95})}\\\\\\\\\n",
    "\n",
    "\\end{align}\n",
    "$$"
   ]
  },
  {
   "cell_type": "code",
   "execution_count": 15,
   "metadata": {},
   "outputs": [
    {
     "name": "stdout",
     "output_type": "stream",
     "text": [
      "proj(u, v) = [-0.31578947  0.12631579 -0.06315789  0.44210526  0.25263158]\n"
     ]
    }
   ],
   "source": [
    "import numpy as np\n",
    "\n",
    "u = np.array([2, -5, 4, 6, -3])\n",
    "v = np.array([5, -2, 1, -7, -4])\n",
    "dot_product = np.dot(u, v)\n",
    "magnitude_v_squared = np.linalg.norm(v) ** 2\n",
    "projection = (dot_product / magnitude_v_squared) * v\n",
    "print(\"proj(u, v) =\", projection)"
   ]
  },
  {
   "cell_type": "markdown",
   "metadata": {},
   "source": [
    "$$\n",
    "\\begin{align}\n",
    "\n",
    "l. \\quad & \\text{Find \\textit{proj}(\\textbf{w, v}). }\\\\\n",
    "\\quad & \\frac{(2)(5)+(1)(-2)+(-3)(1)+(0)(-7)+(0)(-4)}{\\sqrt{5^2+(-2)^2+1^2+(-7)^2+(-4)^2}^2}(5,-2,1,-7,-4)\\\\\n",
    "\\quad & \\frac{10-2-3+0+0}{\\sqrt{25+4+1+49+16}^2}(5,-2,1,-7,-4)\\\\\n",
    "\\quad & \\frac{5}{\\sqrt{95}^2}(5,-2,1,-7,-4)\\\\\n",
    "\\quad & \\text{Answer} = \\bm{(\\frac{5}{19},-\\frac{2}{19},\\frac{1}{19},-\\frac{7}{19},-\\frac{4}{19})}\\\\\\\\\n",
    "\n",
    "\\end{align}\n",
    "$$"
   ]
  },
  {
   "cell_type": "code",
   "execution_count": 16,
   "metadata": {},
   "outputs": [
    {
     "name": "stdout",
     "output_type": "stream",
     "text": [
      "proj(u, w) = [ 0.26315789 -0.10526316  0.05263158 -0.36842105 -0.21052632]\n"
     ]
    }
   ],
   "source": [
    "import numpy as np\n",
    "\n",
    "w = np.array([2, 1, -3])\n",
    "v = np.array([5, -2, 1, -7, -4])\n",
    "w = np.append(w, [0, 0])\n",
    "dot_product = np.dot(w, v)\n",
    "magnitude_v_squared = np.linalg.norm(v) ** 2\n",
    "projection = (dot_product / magnitude_v_squared) * v\n",
    "print(\"proj(u, w) =\", projection)"
   ]
  },
  {
   "cell_type": "markdown",
   "metadata": {},
   "source": [
    "$$\n",
    "\\begin{align}\n",
    "\n",
    "m. \\quad & \\text{Find \\textit{proj}(\\textbf{u, w}). }\\\\\n",
    "\\quad & \\frac{(2)(2)+(-5)(1)+(4)(-3)+(6)(0)+(-3)(0)}{\\sqrt{2^2+1^2+(-3)^2+0^2+0^2}^2}(2,1,-3,0,0)\\\\\n",
    "\\quad & \\frac{4-5-12+0+0}{\\sqrt{4+1+9+0+0}^2}(2,1,3,0,0)\\\\\n",
    "\\quad & \\frac{-13}{\\sqrt{14}^2}(2,1,3,0,0)\\\\\n",
    "\\quad & \\text{Answer} = \\bm{(-\\frac{13}{7},-\\frac{13}{14},\\frac{39}{14},0,0)}\\\\\\\\\n",
    "\n",
    "\\end{align}\n",
    "$$"
   ]
  },
  {
   "cell_type": "code",
   "execution_count": 20,
   "metadata": {},
   "outputs": [
    {
     "name": "stdout",
     "output_type": "stream",
     "text": [
      "proj(u, w) = [-1.85714286 -0.92857143  2.78571429 -0.         -0.        ]\n"
     ]
    }
   ],
   "source": [
    "import numpy as np\n",
    "\n",
    "u = np.array([2, -5, 4, 6, -3])\n",
    "w = np.array([2, 1, -3])\n",
    "w = np.append(w, [0, 0])\n",
    "\n",
    "dot_product = np.dot(u, w)\n",
    "magnitude_w_squared = np.linalg.norm(w) ** 2\n",
    "projection = (dot_product / magnitude_w_squared) * w\n",
    "print(\"proj(u, w) =\", projection)"
   ]
  },
  {
   "cell_type": "markdown",
   "metadata": {},
   "source": [
    "$$\n",
    "\\begin{align}\n",
    "\n",
    "\\text{4. Normalize each vector:}\n",
    "\n",
    "\\end{align}\n",
    "$$"
   ]
  },
  {
   "cell_type": "markdown",
   "metadata": {},
   "source": [
    "$$\n",
    "\\begin{align}\n",
    "\n",
    "a. \\quad & u =(5, -7)\\\\\n",
    "\\quad & \\frac{(5,-7)}{\\sqrt{5^2 + (-7)^2}}\\\\\n",
    "\\quad & \\frac{(5,-7)}{\\sqrt{25 + 49}}\\\\\n",
    "\\quad & \\frac{(5,-7)}{\\sqrt{74}}\\\\\n",
    "\\quad & Answer: (\\frac{5}{\\sqrt{74}},-\\frac{7}{\\sqrt{74}})\n",
    "\n",
    "\\end{align}\n",
    "$$"
   ]
  },
  {
   "cell_type": "code",
   "execution_count": 21,
   "metadata": {},
   "outputs": [
    {
     "name": "stdout",
     "output_type": "stream",
     "text": [
      "[ 0.58123819 -0.81373347]\n"
     ]
    }
   ],
   "source": [
    "import numpy as np\n",
    "u = np.array([5, -7])\n",
    "magnitude_u = np.linalg.norm(u)\n",
    "u_normalized = u / magnitude_u\n",
    "print(u_normalized)"
   ]
  },
  {
   "cell_type": "markdown",
   "metadata": {},
   "source": [
    "$$\n",
    "\\begin{align}\n",
    "\n",
    "b. \\quad & v =(1, 2, -2, 4)\\\\\n",
    "\\quad & \\frac{(1,2,-2,4)}{\\sqrt{1^2 + 2^2 + (-2)^2 + 4^2}}\\\\\n",
    "\\quad & \\frac{(1,2,-2,4)}{\\sqrt{1+4+4+16}}\\\\\n",
    "\\quad & \\frac{(1,2,-2,4)}{\\sqrt{25}}\\\\\n",
    "\\quad & Answer: (\\frac{1}{5},\\frac{2}{5},-\\frac{2}{5},\\frac{4}{5})\n",
    "\n",
    "\\end{align}\n",
    "$$"
   ]
  },
  {
   "cell_type": "code",
   "execution_count": 23,
   "metadata": {},
   "outputs": [
    {
     "name": "stdout",
     "output_type": "stream",
     "text": [
      "[ 0.2  0.4 -0.4  0.8]\n"
     ]
    }
   ],
   "source": [
    "import numpy as np\n",
    "v = np.array([1, 2, -2, 4])\n",
    "magnitude_v = np.linalg.norm(v)\n",
    "v_normalized = v / magnitude_v\n",
    "print(v_normalized)"
   ]
  },
  {
   "cell_type": "markdown",
   "metadata": {},
   "source": [
    "$$\n",
    "\\begin{align}\n",
    "\n",
    "c. \\quad & w =(\\frac{1}{2}, -\\frac{1}{3}, \\frac{3}{4})\\\\\n",
    "\\quad & \\frac{(\\frac{1}{2}, -\\frac{1}{3}, \\frac{3}{4})}{\\sqrt{\\frac{1}{2}^2 + -\\frac{1}{3}^2 + \\frac{3}{4}^2}}\\\\\n",
    "\\quad & \\frac{(\\frac{1}{2}, -\\frac{1}{3}, \\frac{3}{4})}{\\sqrt{\\frac{1}{4} + \\frac{1}{9} + \\frac{9}{16}}}\\\\\n",
    "\\quad & \\frac{(\\frac{1}{2}, -\\frac{1}{3}, \\frac{3}{4})}{\\sqrt{\\frac{133}{144}}}\\\\\n",
    "\\quad & \\frac{(\\frac{1}{2}, -\\frac{1}{3}, \\frac{3}{4})}{\\frac{\\sqrt{133}}{12}}\\\\\n",
    "\\quad & \\frac{12}{\\sqrt{133}}(\\frac{1}{2}, -\\frac{1}{3}, \\frac{3}{4})\\\\\n",
    "\\quad & Answer: (\\frac{6}{\\sqrt{133}},-\\frac{4}{\\sqrt{133}},\\frac{9}{\\sqrt{133}})\n",
    "\n",
    "\\end{align}\n",
    "$$"
   ]
  },
  {
   "cell_type": "code",
   "execution_count": 25,
   "metadata": {},
   "outputs": [
    {
     "name": "stdout",
     "output_type": "stream",
     "text": [
      "[ 0.52026598 -0.34684399  0.78039897]\n"
     ]
    }
   ],
   "source": [
    "import numpy as np\n",
    "w = np.array([1/2, -1/3, 3/4])\n",
    "magnitude_w = np.linalg.norm(w)\n",
    "w_normalized = w / magnitude_w\n",
    "print(w_normalized)"
   ]
  },
  {
   "cell_type": "markdown",
   "metadata": {},
   "source": [
    "$$\n",
    "\\begin{align}\n",
    "\n",
    "\\textbf {Let u = (1,2,-2), v = (3,-12,4) and a scalar \\textit{k} = -3. Find ||u||, ||v||, ||u+v||, ||\\textit{k}u||.}\\\\\n",
    "\n",
    "\\end{align}\n",
    "$$"
   ]
  },
  {
   "cell_type": "markdown",
   "metadata": {},
   "source": [
    "$$\n",
    "\\begin{align}\n",
    "\n",
    "\\quad & ||u|| = \\sqrt{1^2+2^2+(-2)^2}\\\\\n",
    "\\quad & ||u|| = \\sqrt{1+4+4}\\\\\n",
    "\\quad & ||u|| = \\sqrt{9}\\\\\n",
    "\\quad & \\textbf{||u||=3}\\\\\n",
    "\n",
    "\\end{align}\n",
    "$$"
   ]
  },
  {
   "cell_type": "code",
   "execution_count": 4,
   "metadata": {},
   "outputs": [
    {
     "name": "stdout",
     "output_type": "stream",
     "text": [
      "3.0\n"
     ]
    }
   ],
   "source": [
    "import numpy as np\n",
    "\n",
    "u = np.array([1, 2, -2])\n",
    "magnitude_u = np.linalg.norm(u)\n",
    "print(magnitude_u)\n"
   ]
  },
  {
   "cell_type": "markdown",
   "metadata": {},
   "source": [
    "$$\n",
    "\\begin{align}\n",
    "\n",
    "\\quad & ||v|| = \\sqrt{3^2+(-12)^2+4^2}\\\\\n",
    "\\quad & ||v|| = \\sqrt{9+144+16}\\\\\n",
    "\\quad & ||v|| = \\sqrt{169}\\\\\n",
    "\\quad & \\textbf{||v||=13}\\\\\n",
    "\n",
    "\\end{align}\n",
    "$$"
   ]
  },
  {
   "cell_type": "code",
   "execution_count": 5,
   "metadata": {},
   "outputs": [
    {
     "name": "stdout",
     "output_type": "stream",
     "text": [
      "13.0\n"
     ]
    }
   ],
   "source": [
    "import numpy as np\n",
    "\n",
    "v = np.array([3, -12, 4])\n",
    "magnitude_v = np.linalg.norm(v)\n",
    "print(magnitude_v)"
   ]
  },
  {
   "cell_type": "markdown",
   "metadata": {},
   "source": [
    "$$\n",
    "\\begin{align}\n",
    "\n",
    "\\quad & ||u + v|| = \\sqrt{(1+3)^2+(2+(-12))^2+(-2+4)^2}\\\\\n",
    "\\quad & ||u + v|| = \\sqrt{4^2+(-10)^2+2^2}\\\\\n",
    "\\quad & ||u + v|| = \\sqrt{16+100+4}\\\\\n",
    "\\quad & ||u + v|| = \\sqrt{120}\\\\\n",
    "\\quad & \\mathbf{||u + v||=2 \\sqrt{30}}\\\\\n",
    "\n",
    "\\end{align}\n",
    "$$"
   ]
  },
  {
   "cell_type": "code",
   "execution_count": 6,
   "metadata": {},
   "outputs": [
    {
     "name": "stdout",
     "output_type": "stream",
     "text": [
      "10.954451150103322\n"
     ]
    }
   ],
   "source": [
    "import numpy as np\n",
    "\n",
    "u = np.array([1, 2, -2])\n",
    "v = np.array([3, -12, 4])\n",
    "magnitude_u_plus_v = np.linalg.norm(u + v)\n",
    "\n",
    "print(magnitude_u_plus_v)\n"
   ]
  },
  {
   "cell_type": "markdown",
   "metadata": {},
   "source": [
    "$$\n",
    "\\begin{align}\n",
    "\n",
    "\\quad & ||\\textit{k}u|| = \\sqrt{((-3)(1))^2+((-3)(2))^2+((-3)(-2))^2}\\\\\n",
    "\\quad & ||\\textit{k}u|| = \\sqrt{-3^2+(-6)^2+6^2}\\\\\n",
    "\\quad & ||\\textit{k}u|| = \\sqrt{9+36+36}\\\\\n",
    "\\quad & ||\\textit{k}u|| = \\sqrt{81}\\\\\n",
    "\\quad & \\mathbf{||\\mathit{k}u||= 9}\\\\\n",
    "\n",
    "\\end{align}\n",
    "$$"
   ]
  },
  {
   "cell_type": "code",
   "execution_count": 7,
   "metadata": {},
   "outputs": [
    {
     "name": "stdout",
     "output_type": "stream",
     "text": [
      "9.0\n"
     ]
    }
   ],
   "source": [
    "import numpy as np\n",
    "\n",
    "u = np.array([1, 2, -2])\n",
    "k = -3\n",
    "magnitude_ku = np.linalg.norm(k * u)\n",
    "\n",
    "print(magnitude_ku)\n"
   ]
  },
  {
   "cell_type": "markdown",
   "metadata": {},
   "source": [
    "$$\n",
    "\\begin{align}\n",
    "\n",
    "\\textbf{6. Find \\textit{k} so that u and v are orthogonal.}\\\\\n",
    "\n",
    "\\end{align}\n",
    "$$"
   ]
  },
  {
   "cell_type": "markdown",
   "metadata": {},
   "source": [
    "$$\n",
    "\\begin{align}\n",
    "\n",
    "a. \\quad & u=(3,k,-2), v=(6,-4,-3)\\\\\n",
    "\\quad & u \\cdot v = 0\\\\\n",
    "\\quad & (3)(6)+(\\mathit{k})(-4)+(-2)(-3) = 0\\\\\n",
    "\\quad & 18-4\\mathit{k}+6=0\\\\\n",
    "\\quad & 24-4\\mathit{k}=0\\\\\n",
    "\\quad & -4\\mathit{k}=-24\\\\\n",
    "\\quad & \\frac{-4\\mathit{k}}{-4}=\\frac{-24}{-4}\\\\\n",
    "\\quad & \\textbf{\\textit{k} = 6}\\\\\n",
    "\n",
    "\\end{align}\n",
    "$$"
   ]
  },
  {
   "cell_type": "code",
   "execution_count": 9,
   "metadata": {},
   "outputs": [
    {
     "name": "stdout",
     "output_type": "stream",
     "text": [
      "6.0\n"
     ]
    }
   ],
   "source": [
    "import numpy as np\n",
    "\n",
    "k = (-(-2)*(-3) - (3*6)) / -4\n",
    "\n",
    "print(k)\n"
   ]
  },
  {
   "cell_type": "markdown",
   "metadata": {},
   "source": [
    "$$\n",
    "\\begin{align}\n",
    "\n",
    "b. \\quad & u=(5,k,-4,2), v=(1,-3,2,2k)\\\\\n",
    "\\quad & u \\cdot v = 0\\\\\n",
    "\\quad & (5)(1)+(\\mathit{k})(-3)+(-4)(2)+(2)(2\\mathit{k}) = 0\\\\\n",
    "\\quad & 5-3\\mathit{k}-8+4\\mathit{k}=0\\\\\n",
    "\\quad & -3+\\mathit{k}=0\\\\\n",
    "\\quad & \\mathit{k}=3\\\\\n",
    "\n",
    "\\end{align}\n",
    "$$"
   ]
  },
  {
   "cell_type": "code",
   "execution_count": 10,
   "metadata": {},
   "outputs": [
    {
     "name": "stdout",
     "output_type": "stream",
     "text": [
      "3.0\n"
     ]
    }
   ],
   "source": [
    "import numpy as np\n",
    "\n",
    "k = (-(5*1) - (-4*2)) / (-3 + 2 * 2) \n",
    "\n",
    "print(k)"
   ]
  },
  {
   "cell_type": "markdown",
   "metadata": {},
   "source": [
    "$$\n",
    "\\begin{align}\n",
    "\n",
    "c. \\quad & u=(1,7,k+2,-2), v=(3,k,-3,k)\\\\\n",
    "\\quad & u \\cdot v = 0\\\\\n",
    "\\quad & (1)(3)+(7)(\\mathit{k})+(k+2)(-3)+(-2)(\\mathit{k}) = 0\\\\\n",
    "\\quad & 3+7\\mathit{k}-3\\mathit{k}-6-2\\mathit{k}=0\\\\\n",
    "\\quad & -3+2\\mathit{k}=0\\\\\n",
    "\\quad & 2\\mathit{k}=3\\\\\n",
    "\\quad & \\frac{2\\mathit{k}}{2}=\\frac{3}{2}\\\\\n",
    "\\quad & \\mathit{k}=\\frac{3}{2}\\\\\n",
    "\n",
    "\\end{align}\n",
    "$$"
   ]
  },
  {
   "cell_type": "code",
   "execution_count": 11,
   "metadata": {},
   "outputs": [
    {
     "name": "stdout",
     "output_type": "stream",
     "text": [
      "1.5\n"
     ]
    }
   ],
   "source": [
    "import numpy as np\n",
    "\n",
    "k = ((-1 * 3) - (2 * -3)) / (7 + -3 + -2)\n",
    "print(k)"
   ]
  }
 ],
 "metadata": {
  "kernelspec": {
   "display_name": "Python 3",
   "language": "python",
   "name": "python3"
  },
  "language_info": {
   "codemirror_mode": {
    "name": "ipython",
    "version": 3
   },
   "file_extension": ".py",
   "mimetype": "text/x-python",
   "name": "python",
   "nbconvert_exporter": "python",
   "pygments_lexer": "ipython3",
   "version": "3.11.5"
  },
  "orig_nbformat": 4
 },
 "nbformat": 4,
 "nbformat_minor": 2
}
