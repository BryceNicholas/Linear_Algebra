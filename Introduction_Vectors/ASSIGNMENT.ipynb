{
 "cells": [
  {
   "cell_type": "markdown",
   "metadata": {},
   "source": [
    "$$\n",
    "\\begin{align}\n",
    "1. \\quad \\text{Let u = (1,-2,4) and v = (3,5,1) w = (2,1,-3) find:}\\\\\\\\\n",
    "\n",
    "a. \\quad & 3u - 2v \\\\\n",
    "\\quad & 3(1,-2,4) - 2(3,5,1)\\\\\n",
    "\\quad & (3,-6,12) - (6,10,2)\\\\\n",
    "\\quad & Answer: \\textbf{(-3,-16,10)}\n",
    "\n",
    "\\end{align}\n",
    "$$"
   ]
  },
  {
   "cell_type": "code",
   "execution_count": 1,
   "metadata": {},
   "outputs": [
    {
     "name": "stdout",
     "output_type": "stream",
     "text": [
      "a. 3u - 2v =  [ -3 -16  10]\n"
     ]
    }
   ],
   "source": [
    "import numpy as np\n",
    "\n",
    "u = np.array([1, -2, 4])\n",
    "v = np.array([3, 5, 1])\n",
    "w = np.array([2, 1, -3])\n",
    "result = 3 * u - 2 * v\n",
    "print(\"a. 3u - 2v = \", result)"
   ]
  },
  {
   "cell_type": "markdown",
   "metadata": {},
   "source": [
    "$$\n",
    "\\begin{align}\n",
    "b. \\quad & 5u + 3v - 4w \\\\\n",
    "\\quad & 5(1,-2,4) + 3(3,5,1) - 4(2,1,-3)\\\\\n",
    "\\quad & (5,-10,20) + (9,15,3) - (8,4,-12)\\\\\n",
    "\\quad & (14,5,23) - (8,4,-12)\\\\\n",
    "\\quad & Answer: \\textbf{(6,1,35)}\\\\\n",
    "\\end{align}\n",
    "$$"
   ]
  },
  {
   "cell_type": "code",
   "execution_count": 2,
   "metadata": {},
   "outputs": [
    {
     "name": "stdout",
     "output_type": "stream",
     "text": [
      "b. 5u + 3v - 4w = [ 6  1 35]\n"
     ]
    }
   ],
   "source": [
    "import numpy as np\n",
    "\n",
    "u = np.array([1, -2, 4])\n",
    "v = np.array([3, 5, 1])\n",
    "w = np.array([2, 1, -3])\n",
    "result = 5 * u + 3 * v - 4 * w\n",
    "print(\"b. 5u + 3v - 4w =\", result)"
   ]
  },
  {
   "cell_type": "markdown",
   "metadata": {},
   "source": [
    "$$\n",
    "\\begin{align}\n",
    "c. \\quad & u \\cdot v, \\quad v \\cdot w, \\quad u \\cdot w \\\\\n",
    "\\quad & (1,-2,4) \\cdot (3,5,1), (3,5,1) \\cdot (2,1,-3), (1,-2,4) \\cdot (2,1,-3)\\\\\n",
    "\\quad & Answer: \\textbf{-3, 8, -12}\\\\\n",
    "\\end{align}\n",
    "$$"
   ]
  },
  {
   "cell_type": "code",
   "execution_count": 3,
   "metadata": {},
   "outputs": [
    {
     "name": "stdout",
     "output_type": "stream",
     "text": [
      "c. u · v = -3\n",
      "   v · w = 8\n",
      "   u · w = -12\n"
     ]
    }
   ],
   "source": [
    "import numpy as np\n",
    "\n",
    "u = np.array([1, -2, 4])\n",
    "v = np.array([3, 5, 1])\n",
    "w = np.array([2, 1, -3])\n",
    "result_uv = np.dot(u, v)\n",
    "result_vw = np.dot(v, w)\n",
    "result_uw = np.dot(u, w)\n",
    "print(\"c. u · v =\", result_uv)\n",
    "print(\"   v · w =\", result_vw)\n",
    "print(\"   u · w =\", result_uw)"
   ]
  },
  {
   "cell_type": "markdown",
   "metadata": {},
   "source": [
    "$$\n",
    "\\begin{align}\n",
    "d. \\quad & \\|u\\|, \\quad \\|\\textbf{v}\\|, \\quad \\|w\\| \\\\\n",
    "\\quad & \\|(1,-2,4)\\|, \\quad \\|(3,5,1)\\|, \\quad \\|(2,1,-3)\\| \\\\\n",
    "\\quad & \\sqrt{1^2 + -2^2 + 4^2}, \\quad \\sqrt{3^2 + 5^2 + 1^2}, \\quad \\sqrt{2^2 + 1^2 + -3^2} \\\\\n",
    "\\quad & Answer: {\\sqrt{21}, \\quad \\sqrt{35}, \\quad \\sqrt{14}} \\\\\n",
    "\\end{align}\n",
    "$$"
   ]
  },
  {
   "cell_type": "code",
   "execution_count": 4,
   "metadata": {},
   "outputs": [
    {
     "name": "stdout",
     "output_type": "stream",
     "text": [
      "d. ||u|| = 4.58257569495584\n",
      "   ||v|| = 5.916079783099616\n",
      "   ||w|| = 3.7416573867739413\n"
     ]
    }
   ],
   "source": [
    "import numpy as np\n",
    "\n",
    "u = np.array([1, -2, 4])\n",
    "v = np.array([3, 5, 1])\n",
    "w = np.array([2, 1, -3])\n",
    "norm_u = np.linalg.norm(u)\n",
    "norm_v = np.linalg.norm(v)\n",
    "norm_w = np.linalg.norm(w)\n",
    "print(\"d. ||u|| =\", norm_u)\n",
    "print(\"   ||v|| =\", norm_v)\n",
    "print(\"   ||w|| =\", norm_w)"
   ]
  },
  {
   "cell_type": "markdown",
   "metadata": {},
   "source": [
    "$$\n",
    "\\begin{align}\n",
    "e. \\quad & \\text{If } \\theta \\text{ is the angle between } u \\text{ and } v, {find } \\cos\\theta.\\\\\n",
    "\\quad & \\cos(\\theta) = \\frac{(1,-2,4)(3,5,1)}{\\|(1,-2,4)\\| \\|(3,5,1)\\|} \\\\\n",
    "\\quad & \\cos(\\theta) = \\frac{(1)(3)+(-2)(5)+(4)(1)}{\\sqrt{1^2+(-2)^2+4^2}\\sqrt{3^2+5^2+1^2}}\\\\\n",
    "\\quad & \\cos(\\theta) = \\frac{3=10+4}{\\sqrt{1+4+16}{9+25+1}}\\\\\n",
    "\\quad & \\bm{\\cos(\\theta) = -\\frac{3}{\\sqrt{21}\\sqrt{35}}}\\\\\\\\\n",
    "\\end{align}\n",
    "$$"
   ]
  },
  {
   "cell_type": "code",
   "execution_count": 1,
   "metadata": {},
   "outputs": [
    {
     "name": "stdout",
     "output_type": "stream",
     "text": [
      "cos(theta) = -0.11065666703449763\n"
     ]
    }
   ],
   "source": [
    "import numpy as np\n",
    "\n",
    "u = np.array([1, -2, 4])\n",
    "v = np.array([3, 5, 1])\n",
    "dot_product = np.dot(u, v)\n",
    "magnitude_u = np.linalg.norm(u)\n",
    "magnitude_v = np.linalg.norm(v)\n",
    "cos_theta = dot_product / (magnitude_u * magnitude_v)\n",
    "print(\"cos(theta) =\", cos_theta)"
   ]
  },
  {
   "cell_type": "markdown",
   "metadata": {},
   "source": [
    "$$\n",
    "\\begin{align}\n",
    "f. \\quad & \\text{If } \\alpha \\text{ is the angle between } v \\text{ and } w, {find } \\cos\\alpha.\\\\\n",
    "\\quad & \\cos(\\alpha) = \\frac{(3)(2)+(5)(1)+(1)(-3)}{\\sqrt{3^2+5^2+1^2}\\sqrt{2^2+1^2+(-3)^2}}\\\\\n",
    "\\quad & \\cos(\\alpha) = \\frac{6+5-3}{\\sqrt{9+25+1}\\sqrt{4+1+9}}\\\\\n",
    "\\quad & \\bm{\\cos(\\alpha) = \\frac{8}{\\sqrt{35}\\sqrt{14}}}\\\\\\\\\n",
    "\\end{align}\n",
    "$$"
   ]
  },
  {
   "cell_type": "code",
   "execution_count": 3,
   "metadata": {},
   "outputs": [
    {
     "name": "stdout",
     "output_type": "stream",
     "text": [
      "cos(alpha) = 0.36140316116210053\n"
     ]
    }
   ],
   "source": [
    "import numpy as np\n",
    "\n",
    "v = np.array([3, 5, 1])\n",
    "w = np.array([2, 1, -3])\n",
    "dot_product = np.dot(v, w)\n",
    "magnitude_v = np.linalg.norm(v)\n",
    "magnitude_w = np.linalg.norm(w)\n",
    "cos_alpha = dot_product / (magnitude_v * magnitude_w)\n",
    "print(\"cos(alpha) =\", cos_alpha)"
   ]
  },
  {
   "cell_type": "markdown",
   "metadata": {},
   "source": [
    "$$\n",
    "\\begin{align}\n",
    "g. \\quad & \\text{If } \\beta \\text{ is the angle between } u \\text{ and } w, {find } \\cos\\beta.\\\\\n",
    "\\quad & \\cos(\\beta) = \\frac{(1)(2)+(-2)(1)+(4)(-3)}{\\sqrt{1^2+(-2)^2+4^2}\\sqrt{2^2+1^2+(-3)^2}}\\\\\n",
    "\\quad & \\cos(\\beta) = \\frac{2-2-12}{\\sqrt{1+4+16}\\sqrt{4+1+9}}\\\\\n",
    "\\quad & \\bm{\\cos(\\beta) = -\\frac{12}{\\sqrt{21}\\sqrt{14}}}\\\\\\\\\n",
    "\\end{align}\n",
    "$$"
   ]
  },
  {
   "cell_type": "code",
   "execution_count": 4,
   "metadata": {},
   "outputs": [
    {
     "name": "stdout",
     "output_type": "stream",
     "text": [
      "cos(beta) = -0.6998542122237653\n"
     ]
    }
   ],
   "source": [
    "import numpy as np\n",
    "\n",
    "u = np.array([1, -2, 4])\n",
    "w = np.array([2, 1, -3])\n",
    "dot_product = np.dot(u, w)\n",
    "magnitude_u = np.linalg.norm(u)\n",
    "magnitude_w = np.linalg.norm(w)\n",
    "cos_beta = dot_product / (magnitude_u * magnitude_w)\n",
    "print(\"cos(beta) =\", cos_beta)"
   ]
  },
  {
   "cell_type": "markdown",
   "metadata": {},
   "source": [
    "$$\n",
    "\\begin{align}\n",
    "h. \\quad & \\text{Find d(\\textbf{u, v}). }\\\\\n",
    "\\quad & \\sqrt{(1-3)^2+(-2-5)^2+(4-1)^2}\\\\\n",
    "\\quad & \\sqrt{(-2)^2+(-7)^2+(3)^2}\\\\\n",
    "\\quad & \\sqrt{4+49+9}\\\\\n",
    "\\quad & \\text{Answer} = \\bm{\\sqrt{62}}\\\\\n",
    "\\end{align}\n",
    "$$"
   ]
  },
  {
   "cell_type": "code",
   "execution_count": 5,
   "metadata": {},
   "outputs": [
    {
     "name": "stdout",
     "output_type": "stream",
     "text": [
      "d(u, v) = 7.874007874011811\n"
     ]
    }
   ],
   "source": [
    "import numpy as np\n",
    "\n",
    "u = np.array([1, -2, 4])\n",
    "v = np.array([3, 5, 1])\n",
    "distance = np.linalg.norm(u - v)\n",
    "print(\"d(u, v) =\", distance)"
   ]
  },
  {
   "cell_type": "markdown",
   "metadata": {},
   "source": [
    "$$\n",
    "\\begin{align}\n",
    "i. \\quad & \\text{Find d(\\textbf{w, v}). }\\\\\n",
    "\\quad & \\sqrt{(2-3)^2+(1-5)^2+(-3-1)^2}\\\\\n",
    "\\quad & \\sqrt{(-1)^2+(-4)^2+(-4)^2}\\\\\n",
    "\\quad & \\sqrt{1+16+16}\\\\\n",
    "\\quad & \\text{Answer} = \\bm{\\sqrt{33}}\\\\\n",
    "\\end{align}\n",
    "$$"
   ]
  },
  {
   "cell_type": "code",
   "execution_count": 6,
   "metadata": {},
   "outputs": [
    {
     "name": "stdout",
     "output_type": "stream",
     "text": [
      "d(w, v) = 5.744562646538029\n"
     ]
    }
   ],
   "source": [
    "import numpy as np\n",
    "\n",
    "w = np.array([2, 1, -3])\n",
    "v = np.array([3, 5, 1])\n",
    "distance = np.linalg.norm(w - v)\n",
    "print(\"d(w, v) =\", distance)"
   ]
  },
  {
   "cell_type": "markdown",
   "metadata": {},
   "source": [
    "$$\n",
    "\\begin{align}\n",
    "j. \\quad & \\text{Find d(\\textbf{u, w}). }\\\\\n",
    "\\quad & \\sqrt{(1-2)^2+(-2-1)^2+(4-(-3))^2}\\\\\n",
    "\\quad & \\sqrt{(-1)^2+(-3)^2+(7)^2}\\\\\n",
    "\\quad & \\sqrt{1+9+49}\\\\\n",
    "\\quad & \\text{Answer} = \\bm{\\sqrt{59}}\\\\\n",
    "\\end{align}\n",
    "$$"
   ]
  },
  {
   "cell_type": "code",
   "execution_count": 7,
   "metadata": {},
   "outputs": [
    {
     "name": "stdout",
     "output_type": "stream",
     "text": [
      "d(u, w) = 7.681145747868608\n"
     ]
    }
   ],
   "source": [
    "import numpy as np\n",
    "\n",
    "u = np.array([1, -2, 4])\n",
    "w = np.array([2, 1, -3])\n",
    "distance = np.linalg.norm(u - w)\n",
    "print(\"d(u, w) =\", distance)"
   ]
  },
  {
   "cell_type": "markdown",
   "metadata": {},
   "source": [
    "$$\n",
    "\\begin{align}\n",
    "k. \\quad & \\text{Find \\textit{proj}(\\textbf{u, v}). }\\\\\n",
    "\\quad & \\frac{(1)(3)+(-2)(5)+(4)(1)}{\\sqrt{3^2+5^2+1^2}^2}(3,5,1)\\\\\n",
    "\\quad & \\frac{3-10+4}{\\sqrt{9+25+1}^2}(3,5,1)\\\\\n",
    "\\quad & \\frac{-3}{\\sqrt{35}^2}(3,5,1)\\\\\n",
    "\\quad & \\text{Answer} = \\bm{(-\\frac{9}{35},-\\frac{3}{7},-\\frac{3}{35})}\\\\\\\\\n",
    "\\end{align}\n",
    "$$"
   ]
  },
  {
   "cell_type": "code",
   "execution_count": 8,
   "metadata": {},
   "outputs": [
    {
     "name": "stdout",
     "output_type": "stream",
     "text": [
      "proj(u, v) = [-0.25714286 -0.42857143 -0.08571429]\n"
     ]
    }
   ],
   "source": [
    "import numpy as np\n",
    "\n",
    "u = np.array([1, -2, 4])\n",
    "v = np.array([3, 5, 1])\n",
    "dot_product = np.dot(u, v)\n",
    "magnitude_v_squared = np.linalg.norm(v) ** 2\n",
    "projection = (dot_product / magnitude_v_squared) * v\n",
    "print(\"proj(u, v) =\", projection)"
   ]
  },
  {
   "cell_type": "markdown",
   "metadata": {},
   "source": [
    "$$\n",
    "\\begin{align}\n",
    "l. \\quad & \\text{Find \\textit{proj}(\\textbf{w, v}). }\\\\\n",
    "\\quad & \\frac{(2)(3)+(1)(5)+(-3)(1)}{\\sqrt{3^2+5^2+1^2}^2}(3,5,1)\\\\\n",
    "\\quad & \\frac{6+5-3}{\\sqrt{9+25+1}^2}(3,5,1)\\\\\n",
    "\\quad & \\frac{8}{\\sqrt{35}^2}(3,5,1)\\\\\n",
    "\\quad & \\text{Answer} = \\bm{(\\frac{24}{35},\\frac{8}{7},\\frac{8}{35})}\\\\\\\\\n",
    "\\end{align}\n",
    "$$"
   ]
  },
  {
   "cell_type": "code",
   "execution_count": 9,
   "metadata": {},
   "outputs": [
    {
     "name": "stdout",
     "output_type": "stream",
     "text": [
      "proj(w, v) = [0.68571429 1.14285714 0.22857143]\n"
     ]
    }
   ],
   "source": [
    "import numpy as np\n",
    "\n",
    "w = np.array([2, 1, -3])\n",
    "v = np.array([3, 5, 1])\n",
    "dot_product = np.dot(w, v)\n",
    "magnitude_v_squared = np.linalg.norm(v) ** 2\n",
    "projection = (dot_product / magnitude_v_squared) * v\n",
    "print(\"proj(w, v) =\", projection)"
   ]
  },
  {
   "cell_type": "markdown",
   "metadata": {},
   "source": [
    "$$\n",
    "\\begin{align}\n",
    "m. \\quad & \\text{Find \\textit{proj}(\\textbf{u, w}). }\\\\\n",
    "\\quad & \\frac{(1)(2)+(-2)(1)+(4)(-3)}{\\sqrt{2^2+1^2+(-3)^2}^2}(2,1,-3)\\\\\n",
    "\\quad & \\frac{2-2-12}{\\sqrt{4+1+9}^2}(2,1,-3)\\\\\n",
    "\\quad & \\frac{-12}{\\sqrt{14}^2}(2,1,-3)\\\\\n",
    "\\quad & \\frac{-12}{14}(2,1,-3)\\\\\n",
    "\\quad & \\frac{-6}{7}(2,1,-3)\\\\\n",
    "\\quad & \\text{Answer} = \\bm{(-\\frac{12}{7},-\\frac{6}{7},\\frac{18}{7})}\\\\\\\\\n",
    "\\end{align}\n",
    "$$"
   ]
  },
  {
   "cell_type": "code",
   "execution_count": 10,
   "metadata": {},
   "outputs": [
    {
     "name": "stdout",
     "output_type": "stream",
     "text": [
      "proj(u, w) = [-1.71428571 -0.85714286  2.57142857]\n"
     ]
    }
   ],
   "source": [
    "import numpy as np\n",
    "\n",
    "u = np.array([1, -2, 4])\n",
    "w = np.array([2, 1, -3])\n",
    "dot_product = np.dot(u, w)\n",
    "magnitude_w_squared = np.linalg.norm(w) ** 2\n",
    "projection = (dot_product / magnitude_w_squared) * w\n",
    "print(\"proj(u, w) =\", projection)"
   ]
  }
 ],
 "metadata": {
  "kernelspec": {
   "display_name": "Python 3",
   "language": "python",
   "name": "python3"
  },
  "language_info": {
   "codemirror_mode": {
    "name": "ipython",
    "version": 3
   },
   "file_extension": ".py",
   "mimetype": "text/x-python",
   "name": "python",
   "nbconvert_exporter": "python",
   "pygments_lexer": "ipython3",
   "version": "3.11.5"
  },
  "orig_nbformat": 4
 },
 "nbformat": 4,
 "nbformat_minor": 2
}
